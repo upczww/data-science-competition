{
 "cells": [
  {
   "cell_type": "code",
   "execution_count": 1,
   "metadata": {},
   "outputs": [],
   "source": [
    "import pandas as pd\n",
    "import numpy as np\n",
    "from pandas.core.frame import DataFrame\n",
    "import warnings\n",
    "warnings.filterwarnings('ignore')"
   ]
  },
  {
   "cell_type": "code",
   "execution_count": 2,
   "metadata": {},
   "outputs": [],
   "source": [
    "#港口坐标数据\n",
    "#港口坐标数据描述每个运单在船运的过程中涉及的港口位置信息。\n",
    "port=pd.read_csv('../event_port/port.csv')"
   ]
  },
  {
   "cell_type": "code",
   "execution_count": 3,
   "metadata": {},
   "outputs": [],
   "source": [
    "#gpsdf.shape\n",
    "#gpsdf.to_csv('gps_sample5kw.csv',index=False)\n",
    "gpsdf_raw=pd.read_csv('../clean_dataset/dataHasAllXY.csv')"
   ]
  },
  {
   "cell_type": "code",
   "execution_count": 4,
   "metadata": {},
   "outputs": [
    {
     "name": "stdout",
     "output_type": "stream",
     "text": [
      "finished.........\n"
     ]
    }
   ],
   "source": [
    "#对数据进行预处理\n",
    "def get_data(data, mode='train'):\n",
    "    \n",
    "    assert mode=='train' or mode=='test'\n",
    "    \n",
    "    if mode=='train':#船舶将要到达的下一个港口的预计时间,转码格式\n",
    "        pass\n",
    "    elif mode=='test':\n",
    "        data['temp_timestamp'] = data['timestamp']#当前时间\n",
    "        data['onboardDate'] = pd.to_datetime(data['onboardDate'], infer_datetime_format=True)#离开起运港时间\n",
    "    data['timestamp'] = pd.to_datetime(data['timestamp'], infer_datetime_format=True)\n",
    "    data['longitude'] = data['longitude'].astype(float)\n",
    "    data['loadingOrder'] = data['loadingOrder'].astype(str)\n",
    "    data['latitude'] = data['latitude'].astype(float)\n",
    "    data['speed'] = data['speed'].astype(float)\n",
    "    data['direction'] = data['direction'].astype(float)\n",
    "\n",
    "    return data\n",
    "gpsdf = get_data(gpsdf_raw, mode='train')\n",
    "print('finished.........')"
   ]
  },
  {
   "cell_type": "code",
   "execution_count": 5,
   "metadata": {},
   "outputs": [
    {
     "name": "stdout",
     "output_type": "stream",
     "text": [
      "finished.........\n"
     ]
    }
   ],
   "source": [
    "grouped=gpsdf.groupby('loadingOrder')\n",
    "cnt_len=[]\n",
    "cut_name=[]\n",
    "for name,group in grouped:\n",
    "    if len(group)<50:\n",
    "        cut_name.append(name)\n",
    "gpsdf=gpsdf[~gpsdf['loadingOrder'].isin(cut_name)]\n",
    "gpsdf=gpsdf.reset_index(drop=True)\n",
    "print('finished.........')"
   ]
  },
  {
   "cell_type": "code",
   "execution_count": 6,
   "metadata": {},
   "outputs": [],
   "source": [
    "grouped=gpsdf.groupby('loadingOrder')\n",
    "cnt_turn=[]\n",
    "for name,group in grouped:\n",
    "    group=group.reset_index(drop=True)\n",
    "    trace=group['TRANSPORT_TRACE'].values[0]\n",
    "    trace=trace.split('-')\n",
    "    cnt_turn.append(len(trace)-2)\n",
    "    #print(trace)\n",
    "    "
   ]
  },
  {
   "cell_type": "code",
   "execution_count": 7,
   "metadata": {},
   "outputs": [
    {
     "name": "stdout",
     "output_type": "stream",
     "text": [
      "正在构造训练数据\n",
      "构造训练特征所花费时间256.947s\n"
     ]
    }
   ],
   "source": [
    "import time\n",
    "from geopy.distance import geodesic\n",
    "#\n",
    "def cut_zero_end(data):\n",
    "    for i in range(len(data)-1,0,-1):\n",
    "        if data[i]!=0:\n",
    "            break\n",
    "    return i+1\n",
    "def cut_zero_start(data):\n",
    "    for i in range(len(data)):\n",
    "        if data[i]!=0:\n",
    "            break\n",
    "    return i-1\n",
    "#\n",
    "def convert_name_xy(name):#输入港口名称\n",
    "    port_name=port[port['TRANS_NODE_NAME'].isin([name])].reset_index()\n",
    "    return port_name['LONGITUDE'][0],port_name['LATITUDE'][0]#返回港口经纬度\n",
    "def cal_turn_dis(portNames):\n",
    "    xx=[]\n",
    "    yy=[]\n",
    "    dis=0\n",
    "    lon_dis=0\n",
    "    lat_dis=0\n",
    "    dis_sqrt=0\n",
    "    for name in portNames:\n",
    "        xx.append(convert_name_xy(name)[0])\n",
    "        yy.append(convert_name_xy(name)[1])\n",
    "    for i in range(1,len(xx)):\n",
    "        dis+=geodesic((yy[i-1],xx[i-1]), (yy[i],xx[i])).km\n",
    "        lon_dis+=abs(xx[i]-xx[i-1])\n",
    "        lat_dis+=abs(yy[i]-yy[i-1])\n",
    "        dis_sqrt+=np.sqrt(abs(xx[i]-xx[i-1])**2+abs(yy[i]-yy[i-1])**2)\n",
    "    return dis,lon_dis,lat_dis,dis_sqrt\n",
    "    \n",
    "def get_train_feature(df):\n",
    "    #\n",
    "    portNames=df['TRANSPORT_TRACE'].values[0]\n",
    "    portNames=portNames.split('-')\n",
    "    dis,lon_dis,lat_dis,dis_sqrt=cal_turn_dis(portNames)\n",
    "    cnt_turn=len(portNames)-2\n",
    "    data=list(df['speed'])\n",
    "    cut_start=0\n",
    "    cut_end=len(df)\n",
    "    if data[0]==0:\n",
    "        cut_start=cut_zero_start(data)\n",
    "    if data[-1]==0:\n",
    "        cut_end=cut_zero_end(data)\n",
    "    df=df[cut_start:cut_end].reset_index(drop=True)\n",
    "    if len(df)<10:\n",
    "        return [0 for i in range(39)]\n",
    "    feature=[]\n",
    "    length=len(df)\n",
    "    sx=df['longitude'][0]\n",
    "    sy=df['latitude'][0]\n",
    "    ex=df['longitude'][length-1]\n",
    "    ey=df['latitude'][length-1]\n",
    "    \n",
    "    dis=geodesic((sy,sx), (ey,ex)).km\n",
    "    lon_dis=abs(ex-sx)\n",
    "    lat_dis=abs(ey-sy)\n",
    "    dis_sqrt=np.sqrt(lon_dis*lon_dis+lat_dis*lat_dis)\n",
    "     \n",
    "    label=(df['timestamp'][length-1]-df['timestamp'][0]).total_seconds()/3600\n",
    "    #下面开始截断\n",
    "    if length<200:\n",
    "        cut_ratio=0.5\n",
    "    else:\n",
    "        cut_ratio=random.choice([0.1,0.15,0.2,0.25,0.3])\n",
    "        #cut_ratio=random.choice([0.1,0.2,0.3,0.4,0.5,0.6,0.7,0.8])\n",
    "    df=df[:int(length*cut_ratio)]\n",
    "    \n",
    "    length=len(df)\n",
    "    dsx=df['longitude'][0]\n",
    "    dsy=df['latitude'][0]\n",
    "    dex=df['longitude'][length-1]\n",
    "    dey=df['latitude'][length-1]\n",
    "    cal_dis=geodesic((dsy,dsx), (dey,dex)).km#截取出来的一段距离\n",
    "    cut_label=(df['timestamp'][length-1]-df['timestamp'][0]).total_seconds()/3600\n",
    "    \n",
    "    cal_speed=cal_dis/(cut_label+0.1)\n",
    "    df['lat_diff']=df['latitude'].diff(1)\n",
    "    df['lon_diff']=df['longitude'].diff(1)\n",
    "    df['k']=df['lat_diff']/df['lon_diff']\n",
    "    #\n",
    "    df['speed_diff'] = df['speed'].diff(1)#速度变化量\n",
    "    df['diff_minutes'] =df['timestamp'].diff(1).dt.total_seconds() / 60#记录之间的间隔时间(单位:s)\n",
    "    #\n",
    "    k_1_4=df['k'].quantile(0.25)\n",
    "    k_median=df['k'].quantile(0.5)\n",
    "    k_3_4=df['k'].quantile(0.75)\n",
    "    #在所有的记录中，多少记录是停船状态\n",
    "    #df['anchor'] = ((df['lat_diff'] <= 0.03) & (df['lon_diff'] <= 0.03)& (df['speed_diff'] <= 0.3) & (df['diff_minutes'] <= 10)).astype(int)\n",
    "    df['anchor'] = ((df['lat_diff'].abs() <= 0.03) & (df['lon_diff'].abs() <= 0.03)& (df['speed_diff'] <= 0.3) & (df['diff_minutes'] >= 10)).astype(int)\n",
    "\n",
    "    anchor_cnt = df['anchor'].sum()\n",
    "    anchor_ratio = anchor_cnt / len(df)\n",
    "    #\n",
    "    lat_1_4=df['latitude'].quantile(0.25)\n",
    "    lat_3_4=df['latitude'].quantile(0.75)\n",
    "    lat_min=df['latitude'].min()\n",
    "    lat_max=df['latitude'].max()\n",
    "    lat_mean=df['latitude'].mean()\n",
    "    lat_median=df['latitude'].median()\n",
    "    #\n",
    "    lon_1_4=df['longitude'].quantile(0.25)\n",
    "    lon_3_4=df['longitude'].quantile(0.75)\n",
    "    longitude_1_4=df['longitude'].quantile(0.25)\n",
    "    longitude_3_4=df['longitude'].quantile(0.75)\n",
    "    lon_min=df['longitude'].min()\n",
    "    lon_max=df['longitude'].max()\n",
    "    lon_mean=df['longitude'].mean()\n",
    "    lon_median=df['longitude'].median()\n",
    "    #\n",
    "    speed_1_4=df['speed'].quantile(0.25)\n",
    "    speed_3_4=df['speed'].quantile(0.75)\n",
    "    speed_max=df['speed'].max()\n",
    "    speed_mean=df['speed'].mean()\n",
    "    speed_median=df['speed'].median()\n",
    "    #\n",
    "    direction_1_4=df['direction'].quantile(0.25)\n",
    "    direction_3_4=df['direction'].quantile(0.75)\n",
    "    direction_min=df['direction'].min()\n",
    "    direction_max=df['direction'].max()\n",
    "    direction_mean=df['direction'].mean()\n",
    "    direction_median=df['direction'].median()\n",
    "    #\n",
    "    feature.append(k_1_4)\n",
    "    feature.append(k_3_4)\n",
    "    feature.append(k_median)\n",
    "    feature.append(anchor_cnt)\n",
    "    feature.append(anchor_ratio)\n",
    "    #\n",
    "    feature.append(lat_1_4)\n",
    "    feature.append(lat_3_4)\n",
    "    feature.append(lat_max)\n",
    "    feature.append(lat_min)\n",
    "    feature.append(lat_median)\n",
    "    feature.append(lat_mean)\n",
    "    #\n",
    "    feature.append(lon_1_4)\n",
    "    feature.append(lon_3_4)\n",
    "    feature.append(lon_max)\n",
    "    feature.append(lon_min)\n",
    "    feature.append(lon_median)\n",
    "    feature.append(lon_mean)\n",
    "    #\n",
    "    feature.append(speed_1_4)\n",
    "    feature.append(speed_3_4)\n",
    "    feature.append(speed_max)\n",
    "    feature.append(speed_median)\n",
    "    feature.append(speed_mean)\n",
    "    #\n",
    "    feature.append(direction_1_4)\n",
    "    feature.append(direction_3_4)\n",
    "    feature.append(direction_max)\n",
    "    feature.append(direction_min)\n",
    "    feature.append(direction_median)\n",
    "    feature.append(direction_mean)\n",
    "    #\n",
    "    feature.append(sx)\n",
    "    feature.append(sy)\n",
    "    feature.append(ex)\n",
    "    feature.append(ey)\n",
    "    feature.append(dis)\n",
    "    feature.append(lon_dis)\n",
    "    feature.append(lat_dis)\n",
    "    feature.append(cal_speed)\n",
    "    feature.append(dis_sqrt)\n",
    "    feature.append(cnt_turn)\n",
    "    feature.append(label)\n",
    "\n",
    "    return feature\n",
    "#\n",
    "import random\n",
    "from geopy.distance import geodesic\n",
    "import time\n",
    "def make_train_data(df):\n",
    "    features=[]\n",
    "    grouped=df.groupby('loadingOrder')\n",
    "    #\n",
    "    start_time=time.time()\n",
    "    print('正在构造训练数据')\n",
    "    start_time=time.time()\n",
    "    for name,group in grouped:\n",
    "        #sample_trace=df.loc[group.index[bottom:top+1]].reset_index(drop=True)#这里的sample_trace是截取出的一段轨迹(一个训练样本)\n",
    "        sample_trace=group.reset_index(drop=True)\n",
    "        features.append(get_train_feature(sample_trace))\n",
    "    print(\"构造训练特征所花费时间%.3fs\"%(time.time()-start_time))\n",
    "    return features\n",
    "#\n",
    "train_features=make_train_data(gpsdf)"
   ]
  },
  {
   "cell_type": "markdown",
   "metadata": {},
   "source": [
    "## 观察训练数据标签的分布\n",
    "- 最长时间:86.28858796296296 day\n",
    "- 最短时间:0.0 day\n",
    "- 平均时间:16.70094809971483 day\n",
    "\n",
    "## 而测试数据中已知的轨迹长度为：\n",
    "- 最长时间:16.88171296296296 day\n",
    "- 最短时间:0.046527777777777786 day\n",
    "- 平均时间:4.325498415081749 day\n"
   ]
  },
  {
   "cell_type": "code",
   "execution_count": 8,
   "metadata": {},
   "outputs": [],
   "source": [
    "#\n",
    "test_data_path='../R2 ATest 0711.csv'\n",
    "df_test=pd.read_csv(test_data_path)\n",
    "df_test=get_data(df_test, mode='test')"
   ]
  },
  {
   "cell_type": "code",
   "execution_count": 9,
   "metadata": {},
   "outputs": [
    {
     "data": {
      "text/plain": [
       "33.34361353710392"
      ]
     },
     "execution_count": 9,
     "metadata": {},
     "output_type": "execute_result"
    }
   ],
   "source": [
    "geodesic((22,114), (28.6,149.4)).km-3592.044777704557"
   ]
  },
  {
   "cell_type": "code",
   "execution_count": 10,
   "metadata": {},
   "outputs": [],
   "source": [
    "#df_test[df_test['loadingOrder'].isin(['DH829189593918'])]#1-12日出发，1-16开始截取"
   ]
  },
  {
   "cell_type": "code",
   "execution_count": 11,
   "metadata": {},
   "outputs": [
    {
     "data": {
      "text/plain": [
       "9.538922954635794"
      ]
     },
     "execution_count": 11,
     "metadata": {},
     "output_type": "execute_result"
    }
   ],
   "source": [
    "geodesic((1.303141,103.70462), (1.261138,103.779485)).km\n",
    "#geodesic((3.496902,105.483728), (1.303141,103.70462)).km"
   ]
  },
  {
   "cell_type": "code",
   "execution_count": 12,
   "metadata": {},
   "outputs": [
    {
     "data": {
      "text/html": [
       "<div>\n",
       "<style scoped>\n",
       "    .dataframe tbody tr th:only-of-type {\n",
       "        vertical-align: middle;\n",
       "    }\n",
       "\n",
       "    .dataframe tbody tr th {\n",
       "        vertical-align: top;\n",
       "    }\n",
       "\n",
       "    .dataframe thead th {\n",
       "        text-align: right;\n",
       "    }\n",
       "</style>\n",
       "<table border=\"1\" class=\"dataframe\">\n",
       "  <thead>\n",
       "    <tr style=\"text-align: right;\">\n",
       "      <th></th>\n",
       "      <th>loadingOrder</th>\n",
       "      <th>timestamp</th>\n",
       "      <th>longitude</th>\n",
       "      <th>latitude</th>\n",
       "      <th>speed</th>\n",
       "      <th>direction</th>\n",
       "      <th>carrierName</th>\n",
       "      <th>vesselMMSI</th>\n",
       "      <th>onboardDate</th>\n",
       "      <th>TRANSPORT_TRACE</th>\n",
       "      <th>temp_timestamp</th>\n",
       "    </tr>\n",
       "  </thead>\n",
       "  <tbody>\n",
       "    <tr>\n",
       "      <th>27395</th>\n",
       "      <td>DH829189593918</td>\n",
       "      <td>2020-01-16 23:36:18+00:00</td>\n",
       "      <td>103.779485</td>\n",
       "      <td>1.261138</td>\n",
       "      <td>0.0</td>\n",
       "      <td>21160.0</td>\n",
       "      <td>OYSCFP</td>\n",
       "      <td>D1064481645</td>\n",
       "      <td>2020-01-12 13:54:58</td>\n",
       "      <td>CNSHK-SGSIN</td>\n",
       "      <td>2020-01-16T23:36:18.000Z</td>\n",
       "    </tr>\n",
       "    <tr>\n",
       "      <th>27396</th>\n",
       "      <td>DH829189593918</td>\n",
       "      <td>2020-01-16 23:42:38+00:00</td>\n",
       "      <td>103.779485</td>\n",
       "      <td>1.261138</td>\n",
       "      <td>0.0</td>\n",
       "      <td>21150.0</td>\n",
       "      <td>OYSCFP</td>\n",
       "      <td>D1064481645</td>\n",
       "      <td>2020-01-12 13:54:58</td>\n",
       "      <td>CNSHK-SGSIN</td>\n",
       "      <td>2020-01-16T23:42:38.000Z</td>\n",
       "    </tr>\n",
       "    <tr>\n",
       "      <th>27397</th>\n",
       "      <td>DH829189593918</td>\n",
       "      <td>2020-01-16 23:49:48+00:00</td>\n",
       "      <td>103.779488</td>\n",
       "      <td>1.261138</td>\n",
       "      <td>0.0</td>\n",
       "      <td>21150.0</td>\n",
       "      <td>OYSCFP</td>\n",
       "      <td>D1064481645</td>\n",
       "      <td>2020-01-12 13:54:58</td>\n",
       "      <td>CNSHK-SGSIN</td>\n",
       "      <td>2020-01-16T23:49:48.000Z</td>\n",
       "    </tr>\n",
       "    <tr>\n",
       "      <th>27398</th>\n",
       "      <td>DH829189593918</td>\n",
       "      <td>2020-01-16 23:59:08+00:00</td>\n",
       "      <td>103.778478</td>\n",
       "      <td>1.261198</td>\n",
       "      <td>2.0</td>\n",
       "      <td>22360.0</td>\n",
       "      <td>OYSCFP</td>\n",
       "      <td>D1064481645</td>\n",
       "      <td>2020-01-12 13:54:58</td>\n",
       "      <td>CNSHK-SGSIN</td>\n",
       "      <td>2020-01-16T23:59:08.000Z</td>\n",
       "    </tr>\n",
       "    <tr>\n",
       "      <th>27401</th>\n",
       "      <td>DH829189593918</td>\n",
       "      <td>2020-01-17 00:17:48+00:00</td>\n",
       "      <td>103.783758</td>\n",
       "      <td>1.232637</td>\n",
       "      <td>16.0</td>\n",
       "      <td>15080.0</td>\n",
       "      <td>OYSCFP</td>\n",
       "      <td>D1064481645</td>\n",
       "      <td>2020-01-12 13:54:58</td>\n",
       "      <td>CNSHK-SGSIN</td>\n",
       "      <td>2020-01-17T00:17:48.000Z</td>\n",
       "    </tr>\n",
       "    <tr>\n",
       "      <th>27410</th>\n",
       "      <td>DH829189593918</td>\n",
       "      <td>2020-01-17 03:25:38+00:00</td>\n",
       "      <td>103.136185</td>\n",
       "      <td>1.442682</td>\n",
       "      <td>32.0</td>\n",
       "      <td>30760.0</td>\n",
       "      <td>OYSCFP</td>\n",
       "      <td>D1064481645</td>\n",
       "      <td>2020-01-12 13:54:58</td>\n",
       "      <td>CNSHK-SGSIN</td>\n",
       "      <td>2020-01-17T03:25:38.000Z</td>\n",
       "    </tr>\n",
       "    <tr>\n",
       "      <th>27411</th>\n",
       "      <td>DH829189593918</td>\n",
       "      <td>2020-01-17 05:04:08+00:00</td>\n",
       "      <td>102.753570</td>\n",
       "      <td>1.700665</td>\n",
       "      <td>30.0</td>\n",
       "      <td>29800.0</td>\n",
       "      <td>OYSCFP</td>\n",
       "      <td>D1064481645</td>\n",
       "      <td>2020-01-12 13:54:58</td>\n",
       "      <td>CNSHK-SGSIN</td>\n",
       "      <td>2020-01-17T05:04:08.000Z</td>\n",
       "    </tr>\n",
       "    <tr>\n",
       "      <th>27412</th>\n",
       "      <td>DH829189593918</td>\n",
       "      <td>2020-01-17 05:38:38+00:00</td>\n",
       "      <td>102.614758</td>\n",
       "      <td>1.770898</td>\n",
       "      <td>29.0</td>\n",
       "      <td>29800.0</td>\n",
       "      <td>OYSCFP</td>\n",
       "      <td>D1064481645</td>\n",
       "      <td>2020-01-12 13:54:58</td>\n",
       "      <td>CNSHK-SGSIN</td>\n",
       "      <td>2020-01-17T05:38:38.000Z</td>\n",
       "    </tr>\n",
       "    <tr>\n",
       "      <th>27413</th>\n",
       "      <td>DH829189593918</td>\n",
       "      <td>2020-01-17 05:56:18+00:00</td>\n",
       "      <td>102.543375</td>\n",
       "      <td>1.807388</td>\n",
       "      <td>29.0</td>\n",
       "      <td>29600.0</td>\n",
       "      <td>OYSCFP</td>\n",
       "      <td>D1064481645</td>\n",
       "      <td>2020-01-12 13:54:58</td>\n",
       "      <td>CNSHK-SGSIN</td>\n",
       "      <td>2020-01-17T05:56:18.000Z</td>\n",
       "    </tr>\n",
       "    <tr>\n",
       "      <th>27414</th>\n",
       "      <td>DH829189593918</td>\n",
       "      <td>2020-01-17 06:24:28+00:00</td>\n",
       "      <td>102.430405</td>\n",
       "      <td>1.862358</td>\n",
       "      <td>30.0</td>\n",
       "      <td>29600.0</td>\n",
       "      <td>OYSCFP</td>\n",
       "      <td>D1064481645</td>\n",
       "      <td>2020-01-12 13:54:58</td>\n",
       "      <td>CNSHK-SGSIN</td>\n",
       "      <td>2020-01-17T06:24:28.000Z</td>\n",
       "    </tr>\n",
       "    <tr>\n",
       "      <th>27417</th>\n",
       "      <td>DH829189593918</td>\n",
       "      <td>2020-01-17 06:44:38+00:00</td>\n",
       "      <td>102.348065</td>\n",
       "      <td>1.901265</td>\n",
       "      <td>30.0</td>\n",
       "      <td>29400.0</td>\n",
       "      <td>OYSCFP</td>\n",
       "      <td>D1064481645</td>\n",
       "      <td>2020-01-12 13:54:58</td>\n",
       "      <td>CNSHK-SGSIN</td>\n",
       "      <td>2020-01-17T06:44:38.000Z</td>\n",
       "    </tr>\n",
       "    <tr>\n",
       "      <th>27422</th>\n",
       "      <td>DH829189593918</td>\n",
       "      <td>2020-01-17 08:18:08+00:00</td>\n",
       "      <td>101.995300</td>\n",
       "      <td>2.167970</td>\n",
       "      <td>32.0</td>\n",
       "      <td>31150.0</td>\n",
       "      <td>OYSCFP</td>\n",
       "      <td>D1064481645</td>\n",
       "      <td>2020-01-12 13:54:58</td>\n",
       "      <td>CNSHK-SGSIN</td>\n",
       "      <td>2020-01-17T08:18:08.000Z</td>\n",
       "    </tr>\n",
       "    <tr>\n",
       "      <th>27427</th>\n",
       "      <td>DH829189593918</td>\n",
       "      <td>2020-01-17 12:08:38+00:00</td>\n",
       "      <td>101.038288</td>\n",
       "      <td>2.809772</td>\n",
       "      <td>31.0</td>\n",
       "      <td>29150.0</td>\n",
       "      <td>OYSCFP</td>\n",
       "      <td>D1064481645</td>\n",
       "      <td>2020-01-12 13:54:58</td>\n",
       "      <td>CNSHK-SGSIN</td>\n",
       "      <td>2020-01-17T12:08:38.000Z</td>\n",
       "    </tr>\n",
       "    <tr>\n",
       "      <th>27428</th>\n",
       "      <td>DH829189593918</td>\n",
       "      <td>2020-01-17 12:16:08+00:00</td>\n",
       "      <td>101.005615</td>\n",
       "      <td>2.824528</td>\n",
       "      <td>31.0</td>\n",
       "      <td>29840.0</td>\n",
       "      <td>OYSCFP</td>\n",
       "      <td>D1064481645</td>\n",
       "      <td>2020-01-12 13:54:58</td>\n",
       "      <td>CNSHK-SGSIN</td>\n",
       "      <td>2020-01-17T12:16:08.000Z</td>\n",
       "    </tr>\n",
       "    <tr>\n",
       "      <th>27429</th>\n",
       "      <td>DH829189593918</td>\n",
       "      <td>2020-01-17 12:21:38+00:00</td>\n",
       "      <td>100.984600</td>\n",
       "      <td>2.840095</td>\n",
       "      <td>31.0</td>\n",
       "      <td>31430.0</td>\n",
       "      <td>OYSCFP</td>\n",
       "      <td>D1064481645</td>\n",
       "      <td>2020-01-12 13:54:58</td>\n",
       "      <td>CNSHK-SGSIN</td>\n",
       "      <td>2020-01-17T12:21:38.000Z</td>\n",
       "    </tr>\n",
       "    <tr>\n",
       "      <th>27434</th>\n",
       "      <td>DH829189593918</td>\n",
       "      <td>2020-01-17 12:37:38+00:00</td>\n",
       "      <td>100.934077</td>\n",
       "      <td>2.893703</td>\n",
       "      <td>29.0</td>\n",
       "      <td>31720.0</td>\n",
       "      <td>OYSCFP</td>\n",
       "      <td>D1064481645</td>\n",
       "      <td>2020-01-12 13:54:58</td>\n",
       "      <td>CNSHK-SGSIN</td>\n",
       "      <td>2020-01-17T12:37:38.000Z</td>\n",
       "    </tr>\n",
       "    <tr>\n",
       "      <th>27443</th>\n",
       "      <td>DH829189593918</td>\n",
       "      <td>2020-01-17 13:38:38+00:00</td>\n",
       "      <td>100.721648</td>\n",
       "      <td>3.086357</td>\n",
       "      <td>32.0</td>\n",
       "      <td>31090.0</td>\n",
       "      <td>OYSCFP</td>\n",
       "      <td>D1064481645</td>\n",
       "      <td>2020-01-12 13:54:58</td>\n",
       "      <td>CNSHK-SGSIN</td>\n",
       "      <td>2020-01-17T13:38:38.000Z</td>\n",
       "    </tr>\n",
       "    <tr>\n",
       "      <th>27458</th>\n",
       "      <td>DH829189593918</td>\n",
       "      <td>2020-01-17 17:22:48+00:00</td>\n",
       "      <td>99.918133</td>\n",
       "      <td>3.808417</td>\n",
       "      <td>32.0</td>\n",
       "      <td>31200.0</td>\n",
       "      <td>OYSCFP</td>\n",
       "      <td>D1064481645</td>\n",
       "      <td>2020-01-12 13:54:58</td>\n",
       "      <td>CNSHK-SGSIN</td>\n",
       "      <td>2020-01-17T17:22:48.000Z</td>\n",
       "    </tr>\n",
       "    <tr>\n",
       "      <th>27461</th>\n",
       "      <td>DH829189593918</td>\n",
       "      <td>2020-01-17 20:08:48+00:00</td>\n",
       "      <td>99.272348</td>\n",
       "      <td>4.270755</td>\n",
       "      <td>30.0</td>\n",
       "      <td>30800.0</td>\n",
       "      <td>OYSCFP</td>\n",
       "      <td>D1064481645</td>\n",
       "      <td>2020-01-12 13:54:58</td>\n",
       "      <td>CNSHK-SGSIN</td>\n",
       "      <td>2020-01-17T20:08:48.000Z</td>\n",
       "    </tr>\n",
       "    <tr>\n",
       "      <th>27462</th>\n",
       "      <td>DH829189593918</td>\n",
       "      <td>2020-01-17 21:43:58+00:00</td>\n",
       "      <td>98.917535</td>\n",
       "      <td>4.524008</td>\n",
       "      <td>30.0</td>\n",
       "      <td>30800.0</td>\n",
       "      <td>OYSCFP</td>\n",
       "      <td>D1064481645</td>\n",
       "      <td>2020-01-12 13:54:58</td>\n",
       "      <td>CNSHK-SGSIN</td>\n",
       "      <td>2020-01-17T21:43:58.000Z</td>\n",
       "    </tr>\n",
       "    <tr>\n",
       "      <th>27463</th>\n",
       "      <td>DH829189593918</td>\n",
       "      <td>2020-01-17 22:24:38+00:00</td>\n",
       "      <td>98.770768</td>\n",
       "      <td>4.636508</td>\n",
       "      <td>30.0</td>\n",
       "      <td>30800.0</td>\n",
       "      <td>OYSCFP</td>\n",
       "      <td>D1064481645</td>\n",
       "      <td>2020-01-12 13:54:58</td>\n",
       "      <td>CNSHK-SGSIN</td>\n",
       "      <td>2020-01-17T22:24:38.000Z</td>\n",
       "    </tr>\n",
       "    <tr>\n",
       "      <th>27532</th>\n",
       "      <td>DH829189593918</td>\n",
       "      <td>2020-01-18 01:32:08+00:00</td>\n",
       "      <td>98.080998</td>\n",
       "      <td>5.168605</td>\n",
       "      <td>32.0</td>\n",
       "      <td>30800.0</td>\n",
       "      <td>OYSCFP</td>\n",
       "      <td>D1064481645</td>\n",
       "      <td>2020-01-12 13:54:58</td>\n",
       "      <td>CNSHK-SGSIN</td>\n",
       "      <td>2020-01-18T01:32:08.000Z</td>\n",
       "    </tr>\n",
       "    <tr>\n",
       "      <th>27569</th>\n",
       "      <td>DH829189593918</td>\n",
       "      <td>2020-01-18 04:17:38+00:00</td>\n",
       "      <td>97.391428</td>\n",
       "      <td>5.578667</td>\n",
       "      <td>33.0</td>\n",
       "      <td>27900.0</td>\n",
       "      <td>OYSCFP</td>\n",
       "      <td>D1064481645</td>\n",
       "      <td>2020-01-12 13:54:58</td>\n",
       "      <td>CNSHK-SGSIN</td>\n",
       "      <td>2020-01-18T04:17:38.000Z</td>\n",
       "    </tr>\n",
       "  </tbody>\n",
       "</table>\n",
       "</div>"
      ],
      "text/plain": [
       "         loadingOrder                 timestamp   longitude  latitude  speed  \\\n",
       "27395  DH829189593918 2020-01-16 23:36:18+00:00  103.779485  1.261138    0.0   \n",
       "27396  DH829189593918 2020-01-16 23:42:38+00:00  103.779485  1.261138    0.0   \n",
       "27397  DH829189593918 2020-01-16 23:49:48+00:00  103.779488  1.261138    0.0   \n",
       "27398  DH829189593918 2020-01-16 23:59:08+00:00  103.778478  1.261198    2.0   \n",
       "27401  DH829189593918 2020-01-17 00:17:48+00:00  103.783758  1.232637   16.0   \n",
       "27410  DH829189593918 2020-01-17 03:25:38+00:00  103.136185  1.442682   32.0   \n",
       "27411  DH829189593918 2020-01-17 05:04:08+00:00  102.753570  1.700665   30.0   \n",
       "27412  DH829189593918 2020-01-17 05:38:38+00:00  102.614758  1.770898   29.0   \n",
       "27413  DH829189593918 2020-01-17 05:56:18+00:00  102.543375  1.807388   29.0   \n",
       "27414  DH829189593918 2020-01-17 06:24:28+00:00  102.430405  1.862358   30.0   \n",
       "27417  DH829189593918 2020-01-17 06:44:38+00:00  102.348065  1.901265   30.0   \n",
       "27422  DH829189593918 2020-01-17 08:18:08+00:00  101.995300  2.167970   32.0   \n",
       "27427  DH829189593918 2020-01-17 12:08:38+00:00  101.038288  2.809772   31.0   \n",
       "27428  DH829189593918 2020-01-17 12:16:08+00:00  101.005615  2.824528   31.0   \n",
       "27429  DH829189593918 2020-01-17 12:21:38+00:00  100.984600  2.840095   31.0   \n",
       "27434  DH829189593918 2020-01-17 12:37:38+00:00  100.934077  2.893703   29.0   \n",
       "27443  DH829189593918 2020-01-17 13:38:38+00:00  100.721648  3.086357   32.0   \n",
       "27458  DH829189593918 2020-01-17 17:22:48+00:00   99.918133  3.808417   32.0   \n",
       "27461  DH829189593918 2020-01-17 20:08:48+00:00   99.272348  4.270755   30.0   \n",
       "27462  DH829189593918 2020-01-17 21:43:58+00:00   98.917535  4.524008   30.0   \n",
       "27463  DH829189593918 2020-01-17 22:24:38+00:00   98.770768  4.636508   30.0   \n",
       "27532  DH829189593918 2020-01-18 01:32:08+00:00   98.080998  5.168605   32.0   \n",
       "27569  DH829189593918 2020-01-18 04:17:38+00:00   97.391428  5.578667   33.0   \n",
       "\n",
       "       direction carrierName   vesselMMSI         onboardDate TRANSPORT_TRACE  \\\n",
       "27395    21160.0      OYSCFP  D1064481645 2020-01-12 13:54:58     CNSHK-SGSIN   \n",
       "27396    21150.0      OYSCFP  D1064481645 2020-01-12 13:54:58     CNSHK-SGSIN   \n",
       "27397    21150.0      OYSCFP  D1064481645 2020-01-12 13:54:58     CNSHK-SGSIN   \n",
       "27398    22360.0      OYSCFP  D1064481645 2020-01-12 13:54:58     CNSHK-SGSIN   \n",
       "27401    15080.0      OYSCFP  D1064481645 2020-01-12 13:54:58     CNSHK-SGSIN   \n",
       "27410    30760.0      OYSCFP  D1064481645 2020-01-12 13:54:58     CNSHK-SGSIN   \n",
       "27411    29800.0      OYSCFP  D1064481645 2020-01-12 13:54:58     CNSHK-SGSIN   \n",
       "27412    29800.0      OYSCFP  D1064481645 2020-01-12 13:54:58     CNSHK-SGSIN   \n",
       "27413    29600.0      OYSCFP  D1064481645 2020-01-12 13:54:58     CNSHK-SGSIN   \n",
       "27414    29600.0      OYSCFP  D1064481645 2020-01-12 13:54:58     CNSHK-SGSIN   \n",
       "27417    29400.0      OYSCFP  D1064481645 2020-01-12 13:54:58     CNSHK-SGSIN   \n",
       "27422    31150.0      OYSCFP  D1064481645 2020-01-12 13:54:58     CNSHK-SGSIN   \n",
       "27427    29150.0      OYSCFP  D1064481645 2020-01-12 13:54:58     CNSHK-SGSIN   \n",
       "27428    29840.0      OYSCFP  D1064481645 2020-01-12 13:54:58     CNSHK-SGSIN   \n",
       "27429    31430.0      OYSCFP  D1064481645 2020-01-12 13:54:58     CNSHK-SGSIN   \n",
       "27434    31720.0      OYSCFP  D1064481645 2020-01-12 13:54:58     CNSHK-SGSIN   \n",
       "27443    31090.0      OYSCFP  D1064481645 2020-01-12 13:54:58     CNSHK-SGSIN   \n",
       "27458    31200.0      OYSCFP  D1064481645 2020-01-12 13:54:58     CNSHK-SGSIN   \n",
       "27461    30800.0      OYSCFP  D1064481645 2020-01-12 13:54:58     CNSHK-SGSIN   \n",
       "27462    30800.0      OYSCFP  D1064481645 2020-01-12 13:54:58     CNSHK-SGSIN   \n",
       "27463    30800.0      OYSCFP  D1064481645 2020-01-12 13:54:58     CNSHK-SGSIN   \n",
       "27532    30800.0      OYSCFP  D1064481645 2020-01-12 13:54:58     CNSHK-SGSIN   \n",
       "27569    27900.0      OYSCFP  D1064481645 2020-01-12 13:54:58     CNSHK-SGSIN   \n",
       "\n",
       "                 temp_timestamp  \n",
       "27395  2020-01-16T23:36:18.000Z  \n",
       "27396  2020-01-16T23:42:38.000Z  \n",
       "27397  2020-01-16T23:49:48.000Z  \n",
       "27398  2020-01-16T23:59:08.000Z  \n",
       "27401  2020-01-17T00:17:48.000Z  \n",
       "27410  2020-01-17T03:25:38.000Z  \n",
       "27411  2020-01-17T05:04:08.000Z  \n",
       "27412  2020-01-17T05:38:38.000Z  \n",
       "27413  2020-01-17T05:56:18.000Z  \n",
       "27414  2020-01-17T06:24:28.000Z  \n",
       "27417  2020-01-17T06:44:38.000Z  \n",
       "27422  2020-01-17T08:18:08.000Z  \n",
       "27427  2020-01-17T12:08:38.000Z  \n",
       "27428  2020-01-17T12:16:08.000Z  \n",
       "27429  2020-01-17T12:21:38.000Z  \n",
       "27434  2020-01-17T12:37:38.000Z  \n",
       "27443  2020-01-17T13:38:38.000Z  \n",
       "27458  2020-01-17T17:22:48.000Z  \n",
       "27461  2020-01-17T20:08:48.000Z  \n",
       "27462  2020-01-17T21:43:58.000Z  \n",
       "27463  2020-01-17T22:24:38.000Z  \n",
       "27532  2020-01-18T01:32:08.000Z  \n",
       "27569  2020-01-18T04:17:38.000Z  "
      ]
     },
     "execution_count": 12,
     "metadata": {},
     "output_type": "execute_result"
    }
   ],
   "source": [
    "df_test[df_test['loadingOrder'].isin(['DH829189593918'])]"
   ]
  },
  {
   "cell_type": "code",
   "execution_count": 13,
   "metadata": {},
   "outputs": [
    {
     "name": "stdout",
     "output_type": "stream",
     "text": [
      "DH829189593918 105.0\n",
      "24 105.0\n",
      "HQ193237808500 1.0\n",
      "JB123387157454 3.0\n",
      "LE381377964668 68.0\n",
      "87 68.0\n",
      "NH240192470616 3.0\n",
      "QK696918637480 8.0\n",
      "SZ109188860665 1.0\n",
      "TB846768731403 4.0\n",
      "ZO975754571124 3.0\n",
      "ZX552539758501 1.0\n"
     ]
    }
   ],
   "source": [
    "#判断onboard_time和第一条记录的时间是否相等\n",
    "#总共10个运单的onboard/第一条时间差距大于一个小时，大于一天的有两个运单\n",
    "#'DH829189593918':105h;'LE381377964668':68.0\n",
    "grouped=df_test.groupby('loadingOrder')\n",
    "cnt=0\n",
    "for name,group in grouped:\n",
    "    group=group.reset_index(drop=True)\n",
    "    dft=pd.to_datetime(group['timestamp'] ).apply(lambda x: x.replace(tzinfo=None))\n",
    "    delta=(dft[:1][0]-group['onboardDate'][:1][0]).total_seconds()//3600\n",
    "    if delta!=0:\n",
    "        print(name,delta)#总共10个运单的onboard和第一条时间戳不一致\n",
    "    if name=='DH829189593918' or name=='LE381377964668':\n",
    "        print(cnt,delta)\n",
    "    cnt+=1\n",
    "#这里面的10个不一致的订单是需要最好减掉的"
   ]
  },
  {
   "cell_type": "code",
   "execution_count": 14,
   "metadata": {},
   "outputs": [
    {
     "data": {
      "text/plain": [
       "\"\\nlen_list=[]\\ndelta=[]\\ngrouped=df_test.groupby('loadingOrder')\\nfor name,group in grouped:\\n    len_list.append(len(group))\\n    group=group.reset_index(drop=True)\\n    tmp=group['timestamp'].values\\n    delta.append(pd.Timedelta((tmp[-1]-tmp[1])).total_seconds()/3600/24)\\n    if len(group)<10:\\n        print(name)\\n\\nprint(np.min(len_list),np.mean(len_list),np.max(len_list))\\n    \\nprint(np.min(delta),np.mean(delta),np.max(delta))\\n\""
      ]
     },
     "execution_count": 14,
     "metadata": {},
     "output_type": "execute_result"
    }
   ],
   "source": [
    "'''\n",
    "len_list=[]\n",
    "delta=[]\n",
    "grouped=df_test.groupby('loadingOrder')\n",
    "for name,group in grouped:\n",
    "    len_list.append(len(group))\n",
    "    group=group.reset_index(drop=True)\n",
    "    tmp=group['timestamp'].values\n",
    "    delta.append(pd.Timedelta((tmp[-1]-tmp[1])).total_seconds()/3600/24)\n",
    "    if len(group)<10:\n",
    "        print(name)\n",
    "\n",
    "print(np.min(len_list),np.mean(len_list),np.max(len_list))\n",
    "    \n",
    "print(np.min(delta),np.mean(delta),np.max(delta))\n",
    "'''\n"
   ]
  },
  {
   "cell_type": "code",
   "execution_count": 15,
   "metadata": {},
   "outputs": [],
   "source": [
    "#sorted(len_list)"
   ]
  },
  {
   "cell_type": "markdown",
   "metadata": {},
   "source": [
    "# 测试数据:共94对(31对中间港口，最多中间港有14个)港口，219条运单，其中很多含有中间港口"
   ]
  },
  {
   "cell_type": "code",
   "execution_count": 16,
   "metadata": {},
   "outputs": [],
   "source": [
    "def convert_name_xy(name):#输入港口名称\n",
    "    port_name=port[port['TRANS_NODE_NAME'].isin([name])].reset_index()\n",
    "    return port_name['LONGITUDE'][0],port_name['LATITUDE'][0]#返回港口经纬度\n",
    "#  \n",
    "start_x=[]#起点\n",
    "start_y=[]#起点\n",
    "end_x=[]#终点\n",
    "end_y=[]#终点\n",
    "#存储中间结果,避免重复计算\n",
    "temp_dic={}\n",
    "for value in df_test['TRANSPORT_TRACE']:\n",
    "    s_e=value.split('-')\n",
    "    start_port=s_e[0]\n",
    "    end_port=s_e[-1]\n",
    "    if start_port in temp_dic:\n",
    "        re=temp_dic[start_port]\n",
    "    else:\n",
    "        re=convert_name_xy(start_port)\n",
    "        temp_dic[start_port]=re\n",
    "    start_x.append(re[0])\n",
    "    start_y.append(re[1])\n",
    "    if end_port in temp_dic:\n",
    "        re=temp_dic[end_port]\n",
    "    else:\n",
    "        re=convert_name_xy(end_port)\n",
    "        temp_dic[end_port]=re\n",
    "    end_x.append(re[0])\n",
    "    end_y.append(re[1])\n",
    "df_test['start_x']=start_x\n",
    "df_test['start_y']=start_y\n",
    "df_test['end_x']=end_x\n",
    "df_test['end_y']=end_y"
   ]
  },
  {
   "cell_type": "code",
   "execution_count": 17,
   "metadata": {},
   "outputs": [
    {
     "name": "stdout",
     "output_type": "stream",
     "text": [
      "finished1...\n",
      "正在构造测试数据........\n",
      "构造测试数据所花费时间4.187s\n"
     ]
    }
   ],
   "source": [
    "import time\n",
    "from geopy.distance import geodesic\n",
    "#\n",
    "def cal_turn_dis(portNames):\n",
    "    xx=[]\n",
    "    yy=[]\n",
    "    dis=0\n",
    "    lon_dis=0\n",
    "    lat_dis=0\n",
    "    dis_sqrt=0\n",
    "    for name in portNames:\n",
    "        xx.append(convert_name_xy(name)[0])\n",
    "        yy.append(convert_name_xy(name)[1])\n",
    "    for i in range(1,len(xx)):\n",
    "        dis+=geodesic((yy[i-1],xx[i-1]), (yy[i],xx[i])).km\n",
    "        lon_dis+=abs(xx[i]-xx[i-1])\n",
    "        lat_dis+=abs(yy[i]-yy[i-1])\n",
    "        dis_sqrt+=np.sqrt(abs(xx[i]-xx[i-1])**2+abs(yy[i]-yy[i-1])**2)\n",
    "    return dis,lon_dis,lat_dis,dis_sqrt\n",
    "def get_test_feature(df,name):\n",
    "    portNames=df['TRANSPORT_TRACE'].values[0]\n",
    "    portNames=portNames.split('-')\n",
    "    dis,lon_dis,lat_dis,dis_sqrt=cal_turn_dis(portNames)\n",
    "    cnt_turn=len(portNames)-2\n",
    "    df.sort_values(['timestamp'], inplace=True)\n",
    "    df=df.reset_index(drop=True)\n",
    "    feature=[]\n",
    "    length=len(df)\n",
    "    dsx=df['longitude'][0]\n",
    "    dsy=df['latitude'][0]\n",
    "    dex=df['longitude'][length-1]\n",
    "    dey=df['latitude'][length-1]\n",
    "    #\n",
    "    sx=df['longitude'][0]#df['start_x'][0]\n",
    "    sy=df['latitude'][0]#df['start_y'][0]\n",
    "    ex=df['end_x'][length-1]\n",
    "    ey=df['end_y'][length-1]\n",
    "    \n",
    "    dis=geodesic((sy,sx), (ey,ex)).km\n",
    "    lon_dis=abs(ex-sx)\n",
    "    lat_dis=abs(ey-sy)\n",
    "    dis_sqrt=np.sqrt(lon_dis*lon_dis+lat_dis*lat_dis)\n",
    "    \n",
    "    label=(df['timestamp'][length-1]-df['timestamp'][0]).total_seconds()/3600\n",
    "    cal_dis=geodesic((dsy,dsx), (dey,dex)).km\n",
    "    cal_speed=cal_dis/(label+0.1)\n",
    "    df['lat_diff']=df['latitude'].diff(1)\n",
    "    df['lon_diff']=df['longitude'].diff(1)\n",
    "    df['k']=df['lat_diff']/df['lon_diff']\n",
    "    #\n",
    "    df['speed_diff'] = df['speed'].diff(1)#速度变化量\n",
    "    df['diff_minutes'] =df['timestamp'].diff(1).dt.total_seconds() / 60#记录之间的间隔时间(单位:s)\n",
    "    #\n",
    "    k_1_4=df['k'].quantile(0.25)\n",
    "    k_median=df['k'].quantile(0.5)\n",
    "    k_3_4=df['k'].quantile(0.75)\n",
    "    #在所有的记录中，多少记录是停船状态\n",
    "    df['anchor'] = ((df['lat_diff'].abs() <= 0.03) & (df['lon_diff'].abs() <= 0.03)& (df['speed_diff'] <= 0.3) & (df['diff_minutes'] >= 15)).astype(int)\n",
    "\n",
    "    anchor_cnt = df['anchor'].sum()\n",
    "    anchor_ratio = anchor_cnt / len(df)\n",
    "    #\n",
    "    lat_1_4=df['latitude'].quantile(0.25)\n",
    "    lat_3_4=df['latitude'].quantile(0.75)\n",
    "    lat_min=df['latitude'].min()\n",
    "    lat_max=df['latitude'].max()\n",
    "    lat_mean=df['latitude'].mean()\n",
    "    lat_median=df['latitude'].median()\n",
    "    #\n",
    "    lon_1_4=df['longitude'].quantile(0.25)\n",
    "    lon_3_4=df['longitude'].quantile(0.75)\n",
    "    longitude_1_4=df['longitude'].quantile(0.25)\n",
    "    longitude_3_4=df['longitude'].quantile(0.75)\n",
    "    lon_min=df['longitude'].min()\n",
    "    lon_max=df['longitude'].max()\n",
    "    lon_mean=df['longitude'].mean()\n",
    "    lon_median=df['longitude'].median()\n",
    "    #\n",
    "    speed_1_4=df['speed'].quantile(0.25)\n",
    "    speed_3_4=df['speed'].quantile(0.75)\n",
    "    speed_min=df['speed'].min()\n",
    "    speed_max=df['speed'].max()\n",
    "    speed_mean=df['speed'].mean()\n",
    "    speed_median=df['speed'].median()\n",
    "    #\n",
    "    direction_1_4=df['direction'].quantile(0.25)\n",
    "    direction_3_4=df['direction'].quantile(0.75)\n",
    "    direction_min=df['direction'].min()\n",
    "    direction_max=df['direction'].max()\n",
    "    direction_mean=df['direction'].mean()\n",
    "    direction_median=df['direction'].median()\n",
    "    #\n",
    "    feature.append(name)\n",
    "    feature.append(k_1_4)\n",
    "    feature.append(k_3_4)\n",
    "    feature.append(k_median)\n",
    "    feature.append(anchor_cnt)\n",
    "    feature.append(anchor_ratio)\n",
    "    #\n",
    "    feature.append(lat_1_4)\n",
    "    feature.append(lat_3_4)\n",
    "    feature.append(lat_max)\n",
    "    feature.append(lat_min)\n",
    "    feature.append(lat_median)\n",
    "    feature.append(lat_mean)\n",
    "    #\n",
    "    feature.append(lon_1_4)\n",
    "    feature.append(lon_3_4)\n",
    "    feature.append(lon_max)\n",
    "    feature.append(lon_min)\n",
    "    feature.append(lon_median)\n",
    "    feature.append(lon_mean)\n",
    "    #\n",
    "    feature.append(speed_1_4)\n",
    "    feature.append(speed_3_4)\n",
    "    feature.append(speed_max)\n",
    "    feature.append(speed_median)\n",
    "    feature.append(speed_mean)\n",
    "    #\n",
    "    feature.append(direction_1_4)\n",
    "    feature.append(direction_3_4)\n",
    "    feature.append(direction_max)\n",
    "    feature.append(direction_min)\n",
    "    feature.append(direction_median)\n",
    "    feature.append(direction_mean)\n",
    "    #\n",
    "    feature.append(sx)\n",
    "    feature.append(sy)\n",
    "    feature.append(ex)\n",
    "    feature.append(ey)\n",
    "    feature.append(dis)\n",
    "    feature.append(lon_dis)\n",
    "    feature.append(lat_dis)\n",
    "    feature.append(cal_speed)\n",
    "    feature.append(dis_sqrt)\n",
    "    feature.append(cnt_turn)\n",
    "    feature.append(label)\n",
    "    \n",
    "    return feature\n",
    "#\n",
    "import random\n",
    "from geopy.distance import geodesic\n",
    "import time\n",
    "def make_test_data(df):\n",
    "    features=[]\n",
    "    grouped=df.groupby('loadingOrder')\n",
    "    print('finished1...')\n",
    "    #\n",
    "    start_time=time.time()\n",
    "    print('正在构造测试数据........')\n",
    "    start_time=time.time()\n",
    "    for name,group in grouped:\n",
    "        #\n",
    "        sample_trace=group.reset_index(drop=True)\n",
    "        features.append(get_test_feature(sample_trace,name))\n",
    "    print(\"构造测试数据所花费时间%.3fs\"%(time.time()-start_time))\n",
    "    return features\n",
    "#下面只需要保留原始数据cut之前的数据\n",
    "test_features=make_test_data(df_test)"
   ]
  },
  {
   "cell_type": "code",
   "execution_count": 18,
   "metadata": {},
   "outputs": [],
   "source": [
    "train=DataFrame(train_features)\n",
    "train.columns=['k_1_4','k_3_4','k_median','anchor_cnt','anchor_ratio','lat_1_4','lat_3_4','lat_max','lat_min'\n",
    "    ,'lat_median','lat_mean','lon_1_4','lon_3_4','lon_max','lon_min','lon_median','lon_mean'\n",
    "    'speed_1_4','speed_3_4','speed_min','speed_max','speed_median','speed_mean','direction_1_4','direction_3_4','direction_max'\n",
    "    ,'direction_min','direction_median','direction_mean','sx','sy','ex','ey'\n",
    "    ,'dis','lon_dis','lat_dis','cal_speed','dis_sqrt','cnt_turn','label']\n",
    "train=train[train['label']>0.02*24]#筛选训练样本，0.05天以内的不予考虑\n",
    "train=train[train['label']<80*24]\n",
    "train.shape\n",
    "test=DataFrame(test_features)\n",
    "test.columns=['loadingOrder','k_1_4','k_3_4','k_median','anchor_cnt','anchor_ratio','lat_1_4','lat_3_4','lat_max','lat_min'\n",
    "    ,'lat_median','lat_mean','lon_1_4','lon_3_4','lon_max','lon_min','lon_median','lon_mean'\n",
    "    'speed_1_4','speed_3_4','speed_min','speed_max','speed_median','speed_mean','direction_1_4','direction_3_4','direction_max'\n",
    "    ,'direction_min','direction_median','direction_mean','sx','sy','ex','ey'\n",
    "    ,'dis','lon_dis','lat_dis','cal_speed','dis_sqrt','cnt_turn','label']"
   ]
  },
  {
   "cell_type": "code",
   "execution_count": 19,
   "metadata": {},
   "outputs": [
    {
     "name": "stdout",
     "output_type": "stream",
     "text": [
      "最长时间:74.52916666666667 day\n",
      "最短时间:0.03009259259259259 day\n",
      "平均时间:17.323283687607997 day\n"
     ]
    },
    {
     "data": {
      "image/png": "[encoded data removed]",
      "text/plain": [
       "<Figure size 432x288 with 1 Axes>"
      ]
     },
     "metadata": {
      "needs_background": "light"
     },
     "output_type": "display_data"
    }
   ],
   "source": [
    "train_label=np.array(train['label']/24)\n",
    "##观察下预测结果的分布\n",
    "name_cnt={}#{订单号：对应的事件记录条数}\n",
    "tmp=[]\n",
    "print(\"最长时间:%s day\"%(np.max(train_label)))\n",
    "print(\"最短时间:%s day\"%np.min(train_label))\n",
    "print(\"平均时间:%s day\"%np.mean(train_label))\n",
    "#画出分布直方图\n",
    "import pylab as plt \n",
    "bins = np.linspace(int(min(train_label)),int(max(train_label)),int(max(train_label)))\n",
    "plt.hist(train_label,bins)\n",
    "plt.xlabel('ETA of orders ')\n",
    "plt.ylabel('Number of orders')\n",
    "plt.title('train lables')\n",
    "plt.show()"
   ]
  },
  {
   "cell_type": "markdown",
   "metadata": {},
   "source": [
    "## 观察下测试集中给了多少天的轨迹数据\n",
    "- 最长时间:16.88171296296296 day\n",
    "- 最短时间:0.046527777777777786 day\n",
    "- 平均时间:4.325498415081749 day"
   ]
  },
  {
   "cell_type": "code",
   "execution_count": 20,
   "metadata": {},
   "outputs": [
    {
     "name": "stdout",
     "output_type": "stream",
     "text": [
      "最长时间:26.122685185185187 day\n",
      "最短时间:0.004050925925925926 day\n",
      "平均时间:2.5039671063757822 day\n"
     ]
    },
    {
     "data": {
      "image/png": "[encoded data removed]",
      "text/plain": [
       "<Figure size 432x288 with 1 Axes>"
      ]
     },
     "metadata": {
      "needs_background": "light"
     },
     "output_type": "display_data"
    }
   ],
   "source": [
    "#观察下测试集中给了多少天的轨迹数据\n",
    "test_label=np.array(test['label']/24)\n",
    "##观察下预测结果的分布\n",
    "name_cnt={}#{订单号：对应的事件记录条数}\n",
    "tmp=[]\n",
    "print(\"最长时间:%s day\"%(np.max(test_label)))\n",
    "print(\"最短时间:%s day\"%np.min(test_label))\n",
    "print(\"平均时间:%s day\"%np.mean(test_label))\n",
    "#画出分布直方图\n",
    "import pylab as plt \n",
    "bins = np.linspace(int(min(test_label)),int(max(test_label)),int(max(test_label)))\n",
    "plt.hist(test_label,bins)\n",
    "plt.xlabel('ETA of orders ')\n",
    "plt.ylabel('Number of orders')\n",
    "plt.title('test lables')\n",
    "plt.show()"
   ]
  },
  {
   "cell_type": "markdown",
   "metadata": {},
   "source": [
    "## 搭建训练模型"
   ]
  },
  {
   "cell_type": "markdown",
   "metadata": {},
   "source": [
    "## xgb+lgb"
   ]
  },
  {
   "cell_type": "code",
   "execution_count": 21,
   "metadata": {},
   "outputs": [],
   "source": [
    "import xgboost as xgb\n",
    "import lightgbm as lgb\n",
    "from sklearn.ensemble import RandomForestRegressor\n",
    "from sklearn.model_selection import StratifiedKFold\n",
    "from sklearn.model_selection import train_test_split\n",
    "import pandas as pd\n",
    "from tqdm import tqdm\n",
    "import numpy as np\n",
    "from sklearn.model_selection import GridSearchCV\n",
    "from sklearn.metrics import mean_squared_error,explained_variance_score\n",
    "from sklearn.model_selection import KFold\n",
    "from matplotlib import pyplot as plt\n",
    "#from featexp import get_univariate_plots#用于特征筛选，需要先安装featexp\n",
    "%matplotlib inline\n",
    "import warnings\n",
    "warnings.filterwarnings('ignore')"
   ]
  },
  {
   "cell_type": "code",
   "execution_count": 22,
   "metadata": {},
   "outputs": [
    {
     "data": {
      "text/plain": [
       "((12046, 37), (219, 37))"
      ]
     },
     "execution_count": 22,
     "metadata": {},
     "output_type": "execute_result"
    }
   ],
   "source": [
    "#\n",
    "features =['k_1_4','k_3_4','k_median','anchor_ratio','lat_1_4','lat_3_4','lat_max','lat_min'\n",
    "    ,'lat_median','lat_mean','lon_1_4','lon_3_4','lon_max','lon_min','lon_median','lon_mean'\n",
    "    'speed_1_4','speed_3_4','speed_min','speed_max','speed_median','speed_mean','direction_1_4','direction_3_4','direction_max'\n",
    "    ,'direction_min','direction_median','direction_mean','sx','sy','ex','ey'\n",
    "    ,'dis','lon_dis','lat_dis','cal_speed','dis_sqrt','cnt_turn']\n",
    "train_data=train[features]\n",
    "test_data=test[features]\n",
    "y=train['label']\n",
    "train_data.shape,test_data.shape"
   ]
  },
  {
   "cell_type": "code",
   "execution_count": 23,
   "metadata": {},
   "outputs": [
    {
     "data": {
      "text/plain": [
       "(7908.711501910327, 22.234951861377457)"
      ]
     },
     "execution_count": 23,
     "metadata": {},
     "output_type": "execute_result"
    }
   ],
   "source": [
    "np.mean(test_data['dis']),np.mean(test_data['speed_mean'])"
   ]
  },
  {
   "cell_type": "code",
   "execution_count": 24,
   "metadata": {},
   "outputs": [],
   "source": [
    "indexs1=list(test_data[test_data['speed_mean']<15].index)\n",
    "indexs2=list(test_data[test_data['cal_speed']<15].index)\n",
    "for index in indexs1:\n",
    "    test_data.loc[index,'speed_mean']=20\n",
    "for index in indexs2:\n",
    "    test_data.loc[index,'cal_speed']=20\n",
    "#\n",
    "indexs1=list(train_data[train_data['speed_mean']<15].index)\n",
    "indexs2=list(train_data[train_data['cal_speed']<15].index)\n",
    "for index in indexs1:\n",
    "    train_data.loc[index,'speed_mean']=20\n",
    "for index in indexs2:\n",
    "    train_data.loc[index,'cal_speed']=20"
   ]
  },
  {
   "cell_type": "code",
   "execution_count": 25,
   "metadata": {},
   "outputs": [
    {
     "data": {
      "text/plain": [
       "(7908.711501910327,\n",
       " 98.34030444617513,\n",
       " 92.71890651598174,\n",
       " 18.708866383561645,\n",
       " 24.301509706761074,\n",
       " 24.356996148508703)"
      ]
     },
     "execution_count": 25,
     "metadata": {},
     "output_type": "execute_result"
    }
   ],
   "source": [
    "np.mean(test_data['dis']),np.mean(test_data['dis_sqrt']),np.mean(test_data['lon_dis']),np.mean(test_data['lat_dis']),np.mean(test_data['cal_speed']),np.mean(test_data['speed_mean'])"
   ]
  },
  {
   "cell_type": "code",
   "execution_count": 26,
   "metadata": {},
   "outputs": [
    {
     "data": {
      "text/plain": [
       "(7240.769144999852,\n",
       " 78.49641899973942,\n",
       " 73.14385159579943,\n",
       " 19.737935742653164,\n",
       " 23.948171092294483,\n",
       " 22.78613865466693)"
      ]
     },
     "execution_count": 26,
     "metadata": {},
     "output_type": "execute_result"
    }
   ],
   "source": [
    "np.mean(train_data['dis']),np.mean(train_data['dis_sqrt']),np.mean(train_data['lon_dis']),np.mean(train_data['lat_dis']),np.mean(train_data['cal_speed']),np.mean(train_data['speed_mean'])"
   ]
  },
  {
   "cell_type": "code",
   "execution_count": 27,
   "metadata": {},
   "outputs": [],
   "source": [
    "#features =['k_median','speed_mean','direction_mean','dis','lon_dis','lat_dis','cal_speed','dis_sqrt']\n",
    "#train_data=train[features]\n",
    "#test_data=test[features]\n",
    "#y=train['label']\n",
    "#train_data.shape,test_data.shape"
   ]
  },
  {
   "cell_type": "code",
   "execution_count": 28,
   "metadata": {},
   "outputs": [],
   "source": [
    "#featuresx=[ 'dis','lon_dis','lat_dis','cal_speed']\n",
    "#train_data=train_data[featuresx]\n",
    "#test_data=test_data[featuresx]"
   ]
  },
  {
   "cell_type": "code",
   "execution_count": 29,
   "metadata": {},
   "outputs": [
    {
     "data": {
      "text/plain": [
       "'\\ndef pre_process(data):\\n    data=data.apply( lambda x: (x - x.mean()) / (x.std()))\\n    data=data.fillna(0.)\\n    return data\\n\\ntrain_test=pd.concat((train_data,test_data),axis=0).reset_index(drop=True)\\ntrain_test=pre_process(train_test)\\ntrain_data=train_test[:train_data.shape[0]].reset_index(drop=True)\\ntest_data=train_test[train_data.shape[0]:].reset_index(drop=True)\\n'"
      ]
     },
     "execution_count": 29,
     "metadata": {},
     "output_type": "execute_result"
    }
   ],
   "source": [
    "'''\n",
    "def pre_process(data):\n",
    "    data=data.apply( lambda x: (x - x.mean()) / (x.std()))\n",
    "    data=data.fillna(0.)\n",
    "    return data\n",
    "\n",
    "train_test=pd.concat((train_data,test_data),axis=0).reset_index(drop=True)\n",
    "train_test=pre_process(train_test)\n",
    "train_data=train_test[:train_data.shape[0]].reset_index(drop=True)\n",
    "test_data=train_test[train_data.shape[0]:].reset_index(drop=True)\n",
    "'''\n"
   ]
  },
  {
   "cell_type": "code",
   "execution_count": 30,
   "metadata": {},
   "outputs": [],
   "source": [
    "x_train,x_test,y_train,y_test=train_test_split(train_data,y,test_size=0.1,random_state=2020)"
   ]
  },
  {
   "cell_type": "code",
   "execution_count": 31,
   "metadata": {},
   "outputs": [
    {
     "data": {
      "text/plain": [
       "((10841, 37), (1205, 37))"
      ]
     },
     "execution_count": 31,
     "metadata": {},
     "output_type": "execute_result"
    }
   ],
   "source": [
    "x_train.shape,x_test.shape"
   ]
  },
  {
   "cell_type": "code",
   "execution_count": 32,
   "metadata": {},
   "outputs": [
    {
     "name": "stdout",
     "output_type": "stream",
     "text": [
      "val_mse: 5.914089e+03\n",
      "train_mse: 1.276431e+02\n"
     ]
    }
   ],
   "source": [
    "llf=gbm = lgb.LGBMRegressor(objective='regression',\n",
    "                        num_leaves=51,\n",
    "                        learning_rate=0.1,\n",
    "                        n_estimators=600)\n",
    "\n",
    "llf.fit(x_train,y_train)\n",
    "\n",
    "llf_val_mse=mean_squared_error(y_test,llf.predict(x_test))\n",
    "llf_train_mse=mean_squared_error(y_train,llf.predict(x_train))\n",
    "print('val_mse:','{:e}'.format(llf_val_mse))\n",
    "print('train_mse:','{:e}'.format(llf_train_mse))"
   ]
  },
  {
   "cell_type": "code",
   "execution_count": 33,
   "metadata": {},
   "outputs": [
    {
     "name": "stdout",
     "output_type": "stream",
     "text": [
      "val_mse: 5.565053e+03\n",
      "train_mse: 2.661933e+02\n"
     ]
    }
   ],
   "source": [
    "cv_params = {'n_estimators': [400, 500, 600, 700, 800]}\n",
    "other_params = {'learning_rate': 0.05, 'n_estimators': 600, 'max_depth': 7, 'min_child_weight': 1, 'seed': 0,\n",
    "                'subsample': 0.8, 'colsample_bytree': 0.8, 'gamma': 0, 'reg_alpha': 0, 'reg_lambda': 1}\n",
    "\n",
    "xlf = xgb.XGBRegressor(**other_params)\n",
    "xlf.fit(x_train,y_train)\n",
    "xlf_val_mse=mean_squared_error(y_test,xlf.predict(x_test))\n",
    "xlf_train_mse=mean_squared_error(y_train,xlf.predict(x_train))\n",
    "print('val_mse:','{:e}'.format(xlf_val_mse))\n",
    "print('train_mse:','{:e}'.format(xlf_train_mse))\n",
    "#optimized_GBM = GridSearchCV(estimator=model, param_grid=cv_params, scoring='r2', cv=5, verbose=1, n_jobs=4)\n",
    "#optimized_GBM.fit(train_data, y)\n",
    "#evalute_result = optimized_GBM.grid_scores_\n",
    "#print('每轮迭代运行结果:{0}'.format(evalute_result))\n",
    "#print('参数的最佳取值：{0}'.format(optimized_GBM.best_params_))\n",
    "#print('最佳模型得分:{0}'.format(optimized_GBM.best_score_))"
   ]
  },
  {
   "cell_type": "code",
   "execution_count": 193,
   "metadata": {},
   "outputs": [
    {
     "name": "stdout",
     "output_type": "stream",
     "text": [
      "第1次验证mse误差为5502.922053\n",
      "第2次验证mse误差为3721.894970\n",
      "第3次验证mse误差为4142.554346\n",
      "第4次验证mse误差为3925.342969\n",
      "第5次验证mse误差为5213.936571\n",
      "平均验证误差4501.330182\n"
     ]
    }
   ],
   "source": [
    "details=[]\n",
    "answers=np.zeros(len(test))\n",
    "n_splits=5\n",
    "cnt=0\n",
    "mean_error=0\n",
    "sk=KFold(n_splits=n_splits,shuffle=True,random_state=2020)\n",
    "for train_k,test_k in sk.split(train_data,y):\n",
    "    cnt+=1\n",
    "    x_train=train_data.iloc[train_k]\n",
    "    y_train=y.iloc[train_k]\n",
    "    x_test=train_data.iloc[test_k]\n",
    "    y_test=y.iloc[test_k]\n",
    "    \n",
    "    xlf.fit(x_train,y_train)\n",
    "    pred_xgb=xlf.predict(x_test)\n",
    "    weight_xgb=mean_squared_error(y_test,pred_xgb)\n",
    "    \n",
    "    llf.fit(x_train,y_train)\n",
    "    pred_llf=llf.predict(x_test)\n",
    "    weight_lgb=mean_squared_error(y_test,pred_llf)\n",
    "    \n",
    "    \n",
    "    prob_xgb=xlf.predict(x_test)\n",
    "    prob_lgb=llf.predict(x_test)\n",
    "    \n",
    "    errors=[]\n",
    "    ij=[]\n",
    "    weight=np.arange(0,1.05,0.1)\n",
    "    for i,item in enumerate(weight):\n",
    "        prob_end=prob_xgb*item+prob_lgb*(1-item)\n",
    "        error=mean_squared_error(y_test,prob_end)\n",
    "        errors.append(error)\n",
    "        ij.append((item,1-item))\n",
    "    \n",
    "    ii=ij[np.argmin(errors)][0]\n",
    "    jj=ij[np.argmin(errors)][1]\n",
    "    \n",
    "    details.append(min(errors))\n",
    "    details.append(weight_xgb)\n",
    "    details.append(weight_lgb)\n",
    "    details.append(ii)\n",
    "    details.append(jj)\n",
    "\n",
    "    print(\"第%d次验证mse误差为%f\" %(cnt,min(errors)))\n",
    "   \n",
    "    test_xgb=xlf.predict(test_data)\n",
    "    test_lgb=llf.predict(test_data)\n",
    "    ans=test_xgb*ii+test_lgb*jj\n",
    "    #ans=test_lgb\n",
    "    mean_error+=min(errors)/n_splits\n",
    "    answers+=ans/n_splits\n",
    "print(\"平均验证误差%f\"%mean_error)"
   ]
  },
  {
   "cell_type": "markdown",
   "metadata": {},
   "source": [
    "## 观察训练/验证过程"
   ]
  },
  {
   "cell_type": "code",
   "execution_count": 194,
   "metadata": {},
   "outputs": [
    {
     "data": {
      "text/html": [
       "<div>\n",
       "<style scoped>\n",
       "    .dataframe tbody tr th:only-of-type {\n",
       "        vertical-align: middle;\n",
       "    }\n",
       "\n",
       "    .dataframe tbody tr th {\n",
       "        vertical-align: top;\n",
       "    }\n",
       "\n",
       "    .dataframe thead th {\n",
       "        text-align: right;\n",
       "    }\n",
       "</style>\n",
       "<table border=\"1\" class=\"dataframe\">\n",
       "  <thead>\n",
       "    <tr style=\"text-align: right;\">\n",
       "      <th></th>\n",
       "      <th>test_end_score</th>\n",
       "      <th>xgboost</th>\n",
       "      <th>lightgbm</th>\n",
       "      <th>weight_xgboost</th>\n",
       "      <th>weight_lightgbm</th>\n",
       "    </tr>\n",
       "  </thead>\n",
       "  <tbody>\n",
       "    <tr>\n",
       "      <th>0</th>\n",
       "      <td>5502.922053</td>\n",
       "      <td>5618.670536</td>\n",
       "      <td>5709.409668</td>\n",
       "      <td>0.6</td>\n",
       "      <td>0.4</td>\n",
       "    </tr>\n",
       "    <tr>\n",
       "      <th>1</th>\n",
       "      <td>3721.894970</td>\n",
       "      <td>3759.043340</td>\n",
       "      <td>4150.666245</td>\n",
       "      <td>0.8</td>\n",
       "      <td>0.2</td>\n",
       "    </tr>\n",
       "    <tr>\n",
       "      <th>2</th>\n",
       "      <td>4142.554346</td>\n",
       "      <td>4178.756375</td>\n",
       "      <td>4522.571449</td>\n",
       "      <td>0.8</td>\n",
       "      <td>0.2</td>\n",
       "    </tr>\n",
       "    <tr>\n",
       "      <th>3</th>\n",
       "      <td>3925.342969</td>\n",
       "      <td>3992.704443</td>\n",
       "      <td>4176.868566</td>\n",
       "      <td>0.7</td>\n",
       "      <td>0.3</td>\n",
       "    </tr>\n",
       "    <tr>\n",
       "      <th>4</th>\n",
       "      <td>5213.936571</td>\n",
       "      <td>5213.936571</td>\n",
       "      <td>5697.324559</td>\n",
       "      <td>1.0</td>\n",
       "      <td>0.0</td>\n",
       "    </tr>\n",
       "  </tbody>\n",
       "</table>\n",
       "</div>"
      ],
      "text/plain": [
       "   test_end_score      xgboost     lightgbm  weight_xgboost  weight_lightgbm\n",
       "0     5502.922053  5618.670536  5709.409668             0.6              0.4\n",
       "1     3721.894970  3759.043340  4150.666245             0.8              0.2\n",
       "2     4142.554346  4178.756375  4522.571449             0.8              0.2\n",
       "3     3925.342969  3992.704443  4176.868566             0.7              0.3\n",
       "4     5213.936571  5213.936571  5697.324559             1.0              0.0"
      ]
     },
     "execution_count": 194,
     "metadata": {},
     "output_type": "execute_result"
    }
   ],
   "source": [
    "#观察训练/验证过程\n",
    "df=pd.DataFrame(np.array(details).reshape(int(len(details)/5),5)\n",
    "                ,columns=['test_end_score','xgboost','lightgbm','weight_xgboost','weight_lightgbm',])\n",
    "df"
   ]
  },
  {
   "cell_type": "markdown",
   "metadata": {},
   "source": [
    "## 观察预测结果的分布"
   ]
  },
  {
   "cell_type": "code",
   "execution_count": 195,
   "metadata": {},
   "outputs": [
    {
     "name": "stdout",
     "output_type": "stream",
     "text": [
      "预测的最长时间:40.537198357630444 day\n",
      "预测的最短时间:1.1211440767165428 day\n",
      "预测的平均时间:15.761769569052792 day\n"
     ]
    },
    {
     "data": {
      "image/png": "[encoded data removed]",
      "text/plain": [
       "<Figure size 432x288 with 1 Axes>"
      ]
     },
     "metadata": {
      "needs_background": "light"
     },
     "output_type": "display_data"
    }
   ],
   "source": [
    "##观察下预测结果的分布\n",
    "re_day=answers/24\n",
    "name_cnt={}#{订单号：对应的事件记录条数}\n",
    "tmp=[]\n",
    "print(\"预测的最长时间:%s day\"%(np.max(re_day)))\n",
    "print(\"预测的最短时间:%s day\"%np.min(re_day))\n",
    "print(\"预测的平均时间:%s day\"%np.mean(re_day))\n",
    "#画出分布直方图\n",
    "import pylab as plt \n",
    "bins = np.linspace(int(min(re_day)),int(max(re_day)),int(max(re_day)))\n",
    "plt.hist(re_day,bins)\n",
    "plt.xlabel('ETA of orders ')\n",
    "plt.ylabel('Number of orders')\n",
    "plt.show()\n",
    "plt.close()"
   ]
  },
  {
   "cell_type": "code",
   "execution_count": 200,
   "metadata": {},
   "outputs": [
    {
     "name": "stdout",
     "output_type": "stream",
     "text": [
      "预测的最长时间:49.438047205192184 day\n",
      "预测的最短时间:0.016009575887088054 day\n",
      "预测的平均时间:14.267604368727907 day\n"
     ]
    },
    {
     "data": {
      "image/png": "[encoded data removed]",
      "text/plain": [
       "<Figure size 432x288 with 1 Axes>"
      ]
     },
     "metadata": {
      "needs_background": "light"
     },
     "output_type": "display_data"
    }
   ],
   "source": [
    "cal_ans=test_data['dis']/test_data['speed_mean']\n",
    "cal_ans=cal_ans.values\n",
    "re_day=cal_ans/24\n",
    "name_cnt={}#{订单号：对应的事件记录条数}\n",
    "tmp=[]\n",
    "print(\"预测的最长时间:%s day\"%(np.max(re_day)))\n",
    "print(\"预测的最短时间:%s day\"%np.min(re_day))\n",
    "print(\"预测的平均时间:%s day\"%np.mean(re_day))\n",
    "#画出分布直方图\n",
    "import pylab as plt \n",
    "bins = np.linspace(int(min(re_day)),int(max(re_day)),int(max(re_day)))\n",
    "plt.hist(re_day,bins)\n",
    "plt.xlabel('ETA of orders ')\n",
    "plt.ylabel('Number of orders')\n",
    "plt.show()\n",
    "plt.close()"
   ]
  },
  {
   "cell_type": "code",
   "execution_count": 201,
   "metadata": {},
   "outputs": [
    {
     "name": "stdout",
     "output_type": "stream",
     "text": [
      "answer与ans11025的mse:22232\n",
      "answer与ans11302的mse:2645\n"
     ]
    }
   ],
   "source": [
    "ans11025=np.load('../submit/11025.npy')\n",
    "ans11302=np.load('../submit/11302.npy')\n",
    "print(\"answer与ans11025的mse:%.0f\"%mean_squared_error(cal_ans,ans11025))\n",
    "print(\"answer与ans11302的mse:%.0f\"%mean_squared_error(answers,ans11302))"
   ]
  },
  {
   "cell_type": "code",
   "execution_count": 203,
   "metadata": {},
   "outputs": [],
   "source": [
    "cal_ans[24]+=105\n",
    "cal_ans[87]+=68"
   ]
  },
  {
   "cell_type": "code",
   "execution_count": 204,
   "metadata": {},
   "outputs": [
    {
     "data": {
      "text/plain": [
       "(71.49381087623121, 35.51198608944358, 105.38422982129012, 77.78252755265362)"
      ]
     },
     "execution_count": 204,
     "metadata": {},
     "output_type": "execute_result"
    }
   ],
   "source": [
    "answers[24],answers[87],cal_ans[24],cal_ans[87]"
   ]
  },
  {
   "cell_type": "markdown",
   "metadata": {},
   "source": [
    "## 特征重要度筛选"
   ]
  },
  {
   "cell_type": "code",
   "execution_count": 69,
   "metadata": {},
   "outputs": [
    {
     "data": {
      "text/plain": [
       "<Figure size 1296x648 with 0 Axes>"
      ]
     },
     "metadata": {},
     "output_type": "display_data"
    },
    {
     "data": {
      "image/png": "[encoded data removed]",
      "text/plain": [
       "<Figure size 432x288 with 1 Axes>"
      ]
     },
     "metadata": {
      "needs_background": "light"
     },
     "output_type": "display_data"
    }
   ],
   "source": [
    "plt.figure(figsize=(18,9))\n",
    "lgb.plot_importance(llf,max_num_features=16)\n",
    "plt.title('lightgbm——feature_importances_',fontsize=14)\n",
    "plt.show()"
   ]
  },
  {
   "cell_type": "code",
   "execution_count": 70,
   "metadata": {},
   "outputs": [
    {
     "data": {
      "text/plain": [
       "<Figure size 1296x648 with 0 Axes>"
      ]
     },
     "metadata": {},
     "output_type": "display_data"
    },
    {
     "data": {
      "image/png": "[encoded data removed]",
      "text/plain": [
       "<Figure size 432x288 with 1 Axes>"
      ]
     },
     "metadata": {
      "needs_background": "light"
     },
     "output_type": "display_data"
    }
   ],
   "source": [
    "plt.figure(figsize=(18,9))\n",
    "xgb.plot_importance(xlf,max_num_features=16,importance_type='weight')#'gain'可以换成weight\n",
    "plt.title('xgboost——feature_importances_',fontsize=14)\n",
    "plt.show()"
   ]
  },
  {
   "cell_type": "code",
   "execution_count": 71,
   "metadata": {},
   "outputs": [
    {
     "data": {
      "text/plain": [
       "Text(0.5, 1.0, 'xgboost&lightgbm——feature_importances_')"
      ]
     },
     "execution_count": 71,
     "metadata": {},
     "output_type": "execute_result"
    },
    {
     "data": {
      "image/png": "[encoded data removed]",
      "text/plain": [
       "<Figure size 2160x900 with 1 Axes>"
      ]
     },
     "metadata": {
      "needs_background": "light"
     },
     "output_type": "display_data"
    }
   ],
   "source": [
    "width=0.25\n",
    "address=np.arange(len(train_data.columns))\n",
    "tick_label=train_data.columns\n",
    "plt.figure(dpi=600,figsize=(3.6,1.5))\n",
    "plt.bar(address\n",
    "        ,xlf.feature_importances_\n",
    "        ,width\n",
    "        ,color='y'\n",
    "        ,label='xgboost')\n",
    "plt.bar(address+width\n",
    "        ,llf.feature_importances_/sum(llf.feature_importances_)\n",
    "        ,width\n",
    "        ,color='c'\n",
    "        ,label='lightgbm')\n",
    "plt.legend(fontsize=4)\n",
    "plt.xticks(address+width\n",
    "           ,tick_label\n",
    "           ,fontsize=4\n",
    "           ,rotation=90\n",
    "           ,horizontalalignment='center')\n",
    "plt.yticks(fontsize=4,rotation=0)\n",
    "plt.title('xgboost&lightgbm——feature_importances_',fontsize=4)"
   ]
  },
  {
   "cell_type": "markdown",
   "metadata": {},
   "source": [
    "## 生成提交文件"
   ]
  },
  {
   "cell_type": "markdown",
   "metadata": {},
   "source": [
    "DH829189593918 105.0\n",
    "24 105.0\n",
    "LE381377964668 68.0\n",
    "87,68.0"
   ]
  },
  {
   "cell_type": "code",
   "execution_count": 205,
   "metadata": {},
   "outputs": [],
   "source": [
    "test['label'] = cal_ans\n",
    "result=test[['loadingOrder', 'label']]\n",
    "test_data_path = '../R2 ATest 0711.csv'\n",
    "test_data=pd.read_csv(test_data_path)\n",
    "test_data=get_data(test_data, mode='test')\n",
    "#\n",
    "test_data = test_data.merge(result, on='loadingOrder', how='left')\n",
    "test_data['ETA'] = (test_data['onboardDate'] + test_data['label'].apply(lambda x:pd.Timedelta(hours=x))).apply(lambda x:x.strftime('%Y/%m/%d  %H:%M:%S'))\n",
    "test_data.drop(['direction','TRANSPORT_TRACE'],axis=1,inplace=True)\n",
    "test_data['onboardDate'] = test_data['onboardDate'].apply(lambda x:x.strftime('%Y/%m/%d  %H:%M:%S'))\n",
    "test_data['creatDate'] = pd.datetime.now().strftime('%Y/%m/%d  %H:%M:%S')\n",
    "test_data['timestamp'] = test_data['temp_timestamp']\n",
    "# 整理columns顺序\n",
    "submit = test_data[['loadingOrder', 'timestamp', 'longitude', 'latitude', 'carrierName', 'vesselMMSI', 'onboardDate', 'ETA', 'creatDate']]"
   ]
  },
  {
   "cell_type": "code",
   "execution_count": 208,
   "metadata": {},
   "outputs": [
    {
     "data": {
      "text/html": [
       "<div>\n",
       "<style scoped>\n",
       "    .dataframe tbody tr th:only-of-type {\n",
       "        vertical-align: middle;\n",
       "    }\n",
       "\n",
       "    .dataframe tbody tr th {\n",
       "        vertical-align: top;\n",
       "    }\n",
       "\n",
       "    .dataframe thead th {\n",
       "        text-align: right;\n",
       "    }\n",
       "</style>\n",
       "<table border=\"1\" class=\"dataframe\">\n",
       "  <thead>\n",
       "    <tr style=\"text-align: right;\">\n",
       "      <th></th>\n",
       "      <th>loadingOrder</th>\n",
       "      <th>timestamp</th>\n",
       "      <th>longitude</th>\n",
       "      <th>latitude</th>\n",
       "      <th>carrierName</th>\n",
       "      <th>vesselMMSI</th>\n",
       "      <th>onboardDate</th>\n",
       "      <th>ETA</th>\n",
       "      <th>creatDate</th>\n",
       "    </tr>\n",
       "  </thead>\n",
       "  <tbody>\n",
       "    <tr>\n",
       "      <th>29536</th>\n",
       "      <td>FA712454830300</td>\n",
       "      <td>2020-01-28T05:19:28.000Z</td>\n",
       "      <td>114.061383</td>\n",
       "      <td>22.359500</td>\n",
       "      <td>RWHZVZ</td>\n",
       "      <td>D2070531050</td>\n",
       "      <td>2020/01/28  04:52:18</td>\n",
       "      <td>2020/02/03  07:14:20</td>\n",
       "      <td>2020/07/16  17:38:57</td>\n",
       "    </tr>\n",
       "    <tr>\n",
       "      <th>29537</th>\n",
       "      <td>FA712454830300</td>\n",
       "      <td>2020-01-28T05:24:28.000Z</td>\n",
       "      <td>114.074933</td>\n",
       "      <td>22.350750</td>\n",
       "      <td>RWHZVZ</td>\n",
       "      <td>D2070531050</td>\n",
       "      <td>2020/01/28  04:52:18</td>\n",
       "      <td>2020/02/03  07:14:20</td>\n",
       "      <td>2020/07/16  17:38:57</td>\n",
       "    </tr>\n",
       "    <tr>\n",
       "      <th>29538</th>\n",
       "      <td>FA712454830300</td>\n",
       "      <td>2020-01-28T05:29:58.000Z</td>\n",
       "      <td>114.081983</td>\n",
       "      <td>22.329350</td>\n",
       "      <td>RWHZVZ</td>\n",
       "      <td>D2070531050</td>\n",
       "      <td>2020/01/28  04:52:18</td>\n",
       "      <td>2020/02/03  07:14:20</td>\n",
       "      <td>2020/07/16  17:38:57</td>\n",
       "    </tr>\n",
       "    <tr>\n",
       "      <th>29541</th>\n",
       "      <td>FA712454830300</td>\n",
       "      <td>2020-01-28T05:30:28.000Z</td>\n",
       "      <td>114.082833</td>\n",
       "      <td>22.327083</td>\n",
       "      <td>RWHZVZ</td>\n",
       "      <td>D2070531050</td>\n",
       "      <td>2020/01/28  04:52:18</td>\n",
       "      <td>2020/02/03  07:14:20</td>\n",
       "      <td>2020/07/16  17:38:57</td>\n",
       "    </tr>\n",
       "    <tr>\n",
       "      <th>29544</th>\n",
       "      <td>FA712454830300</td>\n",
       "      <td>2020-01-28T05:31:28.000Z</td>\n",
       "      <td>114.084383</td>\n",
       "      <td>22.323150</td>\n",
       "      <td>RWHZVZ</td>\n",
       "      <td>D2070531050</td>\n",
       "      <td>2020/01/28  04:52:18</td>\n",
       "      <td>2020/02/03  07:14:20</td>\n",
       "      <td>2020/07/16  17:38:57</td>\n",
       "    </tr>\n",
       "    <tr>\n",
       "      <th>...</th>\n",
       "      <td>...</td>\n",
       "      <td>...</td>\n",
       "      <td>...</td>\n",
       "      <td>...</td>\n",
       "      <td>...</td>\n",
       "      <td>...</td>\n",
       "      <td>...</td>\n",
       "      <td>...</td>\n",
       "      <td>...</td>\n",
       "    </tr>\n",
       "    <tr>\n",
       "      <th>32945</th>\n",
       "      <td>FA712454830300</td>\n",
       "      <td>2020-02-23T07:41:08.000Z</td>\n",
       "      <td>31.126853</td>\n",
       "      <td>-29.817860</td>\n",
       "      <td>RWHZVZ</td>\n",
       "      <td>D2070531050</td>\n",
       "      <td>2020/01/28  04:52:18</td>\n",
       "      <td>2020/02/03  07:14:20</td>\n",
       "      <td>2020/07/16  17:38:57</td>\n",
       "    </tr>\n",
       "    <tr>\n",
       "      <th>32946</th>\n",
       "      <td>FA712454830300</td>\n",
       "      <td>2020-02-23T07:43:08.000Z</td>\n",
       "      <td>31.125547</td>\n",
       "      <td>-29.818770</td>\n",
       "      <td>RWHZVZ</td>\n",
       "      <td>D2070531050</td>\n",
       "      <td>2020/01/28  04:52:18</td>\n",
       "      <td>2020/02/03  07:14:20</td>\n",
       "      <td>2020/07/16  17:38:57</td>\n",
       "    </tr>\n",
       "    <tr>\n",
       "      <th>32947</th>\n",
       "      <td>FA712454830300</td>\n",
       "      <td>2020-02-23T07:46:08.000Z</td>\n",
       "      <td>31.119920</td>\n",
       "      <td>-29.818930</td>\n",
       "      <td>RWHZVZ</td>\n",
       "      <td>D2070531050</td>\n",
       "      <td>2020/01/28  04:52:18</td>\n",
       "      <td>2020/02/03  07:14:20</td>\n",
       "      <td>2020/07/16  17:38:57</td>\n",
       "    </tr>\n",
       "    <tr>\n",
       "      <th>32948</th>\n",
       "      <td>FA712454830300</td>\n",
       "      <td>2020-02-23T07:47:08.000Z</td>\n",
       "      <td>31.118000</td>\n",
       "      <td>-29.818530</td>\n",
       "      <td>RWHZVZ</td>\n",
       "      <td>D2070531050</td>\n",
       "      <td>2020/01/28  04:52:18</td>\n",
       "      <td>2020/02/03  07:14:20</td>\n",
       "      <td>2020/07/16  17:38:57</td>\n",
       "    </tr>\n",
       "    <tr>\n",
       "      <th>32949</th>\n",
       "      <td>FA712454830300</td>\n",
       "      <td>2020-02-23T08:16:08.000Z</td>\n",
       "      <td>31.069547</td>\n",
       "      <td>-29.854480</td>\n",
       "      <td>RWHZVZ</td>\n",
       "      <td>D2070531050</td>\n",
       "      <td>2020/01/28  04:52:18</td>\n",
       "      <td>2020/02/03  07:14:20</td>\n",
       "      <td>2020/07/16  17:38:57</td>\n",
       "    </tr>\n",
       "  </tbody>\n",
       "</table>\n",
       "<p>735 rows × 9 columns</p>\n",
       "</div>"
      ],
      "text/plain": [
       "         loadingOrder                 timestamp   longitude   latitude  \\\n",
       "29536  FA712454830300  2020-01-28T05:19:28.000Z  114.061383  22.359500   \n",
       "29537  FA712454830300  2020-01-28T05:24:28.000Z  114.074933  22.350750   \n",
       "29538  FA712454830300  2020-01-28T05:29:58.000Z  114.081983  22.329350   \n",
       "29541  FA712454830300  2020-01-28T05:30:28.000Z  114.082833  22.327083   \n",
       "29544  FA712454830300  2020-01-28T05:31:28.000Z  114.084383  22.323150   \n",
       "...               ...                       ...         ...        ...   \n",
       "32945  FA712454830300  2020-02-23T07:41:08.000Z   31.126853 -29.817860   \n",
       "32946  FA712454830300  2020-02-23T07:43:08.000Z   31.125547 -29.818770   \n",
       "32947  FA712454830300  2020-02-23T07:46:08.000Z   31.119920 -29.818930   \n",
       "32948  FA712454830300  2020-02-23T07:47:08.000Z   31.118000 -29.818530   \n",
       "32949  FA712454830300  2020-02-23T08:16:08.000Z   31.069547 -29.854480   \n",
       "\n",
       "      carrierName   vesselMMSI           onboardDate                   ETA  \\\n",
       "29536      RWHZVZ  D2070531050  2020/01/28  04:52:18  2020/02/03  07:14:20   \n",
       "29537      RWHZVZ  D2070531050  2020/01/28  04:52:18  2020/02/03  07:14:20   \n",
       "29538      RWHZVZ  D2070531050  2020/01/28  04:52:18  2020/02/03  07:14:20   \n",
       "29541      RWHZVZ  D2070531050  2020/01/28  04:52:18  2020/02/03  07:14:20   \n",
       "29544      RWHZVZ  D2070531050  2020/01/28  04:52:18  2020/02/03  07:14:20   \n",
       "...           ...          ...                   ...                   ...   \n",
       "32945      RWHZVZ  D2070531050  2020/01/28  04:52:18  2020/02/03  07:14:20   \n",
       "32946      RWHZVZ  D2070531050  2020/01/28  04:52:18  2020/02/03  07:14:20   \n",
       "32947      RWHZVZ  D2070531050  2020/01/28  04:52:18  2020/02/03  07:14:20   \n",
       "32948      RWHZVZ  D2070531050  2020/01/28  04:52:18  2020/02/03  07:14:20   \n",
       "32949      RWHZVZ  D2070531050  2020/01/28  04:52:18  2020/02/03  07:14:20   \n",
       "\n",
       "                  creatDate  \n",
       "29536  2020/07/16  17:38:57  \n",
       "29537  2020/07/16  17:38:57  \n",
       "29538  2020/07/16  17:38:57  \n",
       "29541  2020/07/16  17:38:57  \n",
       "29544  2020/07/16  17:38:57  \n",
       "...                     ...  \n",
       "32945  2020/07/16  17:38:57  \n",
       "32946  2020/07/16  17:38:57  \n",
       "32947  2020/07/16  17:38:57  \n",
       "32948  2020/07/16  17:38:57  \n",
       "32949  2020/07/16  17:38:57  \n",
       "\n",
       "[735 rows x 9 columns]"
      ]
     },
     "execution_count": 208,
     "metadata": {},
     "output_type": "execute_result"
    }
   ],
   "source": [
    "submit[submit['loadingOrder'].isin(['FA712454830300'])]"
   ]
  },
  {
   "cell_type": "code",
   "execution_count": 130,
   "metadata": {},
   "outputs": [],
   "source": [
    "submit.to_csv('../submit/716subv2.csv', index=False)"
   ]
  },
  {
   "cell_type": "code",
   "execution_count": 131,
   "metadata": {},
   "outputs": [],
   "source": [
    "np.save('../submit/716subv2.npy',answers)"
   ]
  },
  {
   "cell_type": "code",
   "execution_count": null,
   "metadata": {},
   "outputs": [],
   "source": []
  }
 ],
 "metadata": {
  "kernelspec": {
   "display_name": "huawei_copy",
   "language": "python",
   "name": "huawei_copy"
  },
  "language_info": {
   "codemirror_mode": {
    "name": "ipython",
    "version": 3
   },
   "file_extension": ".py",
   "mimetype": "text/x-python",
   "name": "python",
   "nbconvert_exporter": "python",
   "pygments_lexer": "ipython3",
   "version": "3.7.7"
  }
 },
 "nbformat": 4,
 "nbformat_minor": 2
}
