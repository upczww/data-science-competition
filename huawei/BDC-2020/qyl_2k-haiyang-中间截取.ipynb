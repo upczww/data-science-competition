{
 "cells": [
  {
   "cell_type": "code",
   "execution_count": 1,
   "metadata": {},
   "outputs": [],
   "source": [
    "import pandas as pd\n",
    "import numpy as np\n",
    "from pandas.core.frame import DataFrame\n",
    "import warnings\n",
    "warnings.filterwarnings('ignore')"
   ]
  },
  {
   "cell_type": "code",
   "execution_count": 2,
   "metadata": {},
   "outputs": [],
   "source": [
    "#港口坐标数据\n",
    "#港口坐标数据描述每个运单在船运的过程中涉及的港口位置信息。\n",
    "port=pd.read_csv('../event_port/port.csv')"
   ]
  },
  {
   "cell_type": "code",
   "execution_count": 3,
   "metadata": {},
   "outputs": [],
   "source": [
    "#gpsdf.shape\n",
    "#gpsdf.to_csv('gps_sample5kw.csv',index=False)\n",
    "gpsdf_raw=pd.read_csv('筛选的训练data.csv')"
   ]
  },
  {
   "cell_type": "code",
   "execution_count": 4,
   "metadata": {},
   "outputs": [
    {
     "name": "stdout",
     "output_type": "stream",
     "text": [
      "finished.........\n"
     ]
    }
   ],
   "source": [
    "#对数据进行预处理\n",
    "def get_data(data, mode='train'):\n",
    "    \n",
    "    assert mode=='train' or mode=='test'\n",
    "    \n",
    "    if mode=='train':#船舶将要到达的下一个港口的预计时间,转码格式\n",
    "        pass\n",
    "    elif mode=='test':\n",
    "        data['temp_timestamp'] = data['timestamp']#当前时间\n",
    "        data['onboardDate'] = pd.to_datetime(data['onboardDate'], infer_datetime_format=True)#离开起运港时间\n",
    "    data['timestamp'] = pd.to_datetime(data['timestamp'], infer_datetime_format=True)\n",
    "    data['longitude'] = data['longitude'].astype(float)\n",
    "    data['loadingOrder'] = data['loadingOrder'].astype(str)\n",
    "    data['latitude'] = data['latitude'].astype(float)\n",
    "    data['speed'] = data['speed'].astype(float)\n",
    "    data['direction'] = data['direction'].astype(float)\n",
    "\n",
    "    return data\n",
    "gpsdf = get_data(gpsdf_raw, mode='train')\n",
    "print('finished.........')"
   ]
  },
  {
   "cell_type": "code",
   "execution_count": 5,
   "metadata": {},
   "outputs": [
    {
     "name": "stdout",
     "output_type": "stream",
     "text": [
      "finished.........\n"
     ]
    }
   ],
   "source": [
    "grouped=gpsdf.groupby('loadingOrder')\n",
    "cnt_len=[]\n",
    "cut_name=[]\n",
    "for name,group in grouped:\n",
    "    if len(group)<100:\n",
    "        cut_name.append(name)\n",
    "gpsdf=gpsdf[~gpsdf['loadingOrder'].isin(cut_name)]\n",
    "gpsdf=gpsdf.reset_index(drop=True)\n",
    "print('finished.........')"
   ]
  },
  {
   "cell_type": "code",
   "execution_count": 6,
   "metadata": {},
   "outputs": [],
   "source": [
    "#清洗训练数据(针对标签的清洗，因为有很多运单中间大量停船过程)\n",
    "grouped=gpsdf.groupby('loadingOrder')\n",
    "cnt_maxtime=[]\n",
    "reserve_name=[]\n",
    "for name,group in grouped:\n",
    "    group=group.reset_index(drop=True)\n",
    "    time_dif=group['timestamp'].diff(1).dt.total_seconds()//3600#小时为单位\n",
    "    time_dif=time_dif.values[1:]\n",
    "    if len(time_dif)<50:\n",
    "        reserve_name.append(name)\n",
    "        continue\n",
    "    cnt_maxtime.append(np.max(time_dif))\n",
    "    if np.max(time_dif)<10:#跳跃小于10个小时的用于训练\n",
    "        reserve_name.append(name)\n",
    "    #break\n",
    "gpsdf=gpsdf[gpsdf['loadingOrder'].isin(reserve_name)]\n",
    "gpsdf=gpsdf.reset_index(drop=True)"
   ]
  },
  {
   "cell_type": "code",
   "execution_count": 61,
   "metadata": {},
   "outputs": [
    {
     "name": "stdout",
     "output_type": "stream",
     "text": [
      "正在构造训练数据\n",
      "1000\n",
      "2000\n",
      "3000\n",
      "构造训练特征所花费时间165.214s\n"
     ]
    }
   ],
   "source": [
    "import time\n",
    "import random\n",
    "from geopy.distance import geodesic\n",
    "#\n",
    "def cut_zero_end(data):\n",
    "    for i in range(len(data)-1,0,-1):\n",
    "        if data[i]!=0:\n",
    "            break\n",
    "    return i+1\n",
    "def cut_zero_start(data):\n",
    "    for i in range(len(data)):\n",
    "        if data[i]!=0:\n",
    "            break\n",
    "    return i-1\n",
    "#\n",
    "def convert_name_xy(name):#输入港口名称\n",
    "    port_name=port[port['TRANS_NODE_NAME'].isin([name])].reset_index()\n",
    "    return port_name['LONGITUDE'][0],port_name['LATITUDE'][0]#返回港口经纬度\n",
    "def cal_turn_dis(portNames):\n",
    "    xx=[]\n",
    "    yy=[]\n",
    "    dis=0\n",
    "    lon_dis=0\n",
    "    lat_dis=0\n",
    "    dis_sqrt=0\n",
    "    for name in portNames:\n",
    "        xx.append(convert_name_xy(name)[0])\n",
    "        yy.append(convert_name_xy(name)[1])\n",
    "    for i in range(1,len(xx)):\n",
    "        dis+=geodesic((yy[i-1],xx[i-1]), (yy[i],xx[i])).km\n",
    "        lon_dis+=abs(xx[i]-xx[i-1])\n",
    "        lat_dis+=abs(yy[i]-yy[i-1])\n",
    "        dis_sqrt+=np.sqrt(abs(xx[i]-xx[i-1])**2+abs(yy[i]-yy[i-1])**2)\n",
    "    return dis,lon_dis,lat_dis,dis_sqrt\n",
    "    \n",
    "def get_train_feature(df,bottom,top):\n",
    "    #\n",
    "    data=list(df['speed'])\n",
    "    length=len(df)\n",
    "    cut_start=int(length*bottom)\n",
    "    cut_end=int(length*top)\n",
    "    df=df[cut_start:cut_end].reset_index(drop=True)\n",
    "    if len(df)<10:\n",
    "        return [0 for i in range(38)]\n",
    "    feature=[]\n",
    "    length=len(df)\n",
    "    sx=df['longitude'][0]\n",
    "    sy=df['latitude'][0]\n",
    "    ex=df['longitude'][length-1]\n",
    "    ey=df['latitude'][length-1]\n",
    "    \n",
    "    dis=geodesic((sy,sx), (ey,ex)).km\n",
    "    lon_dis=abs(ex-sx)\n",
    "    lat_dis=abs(ey-sy)\n",
    "    dis_sqrt=np.sqrt(lon_dis*lon_dis+lat_dis*lat_dis)\n",
    "     \n",
    "    label=(df['timestamp'][length-1]-df['timestamp'][0]).total_seconds()/3600\n",
    "    #下面开始截断\n",
    "    cut_ratio=0.5\n",
    "    df=df[:int(length*cut_ratio)]\n",
    "    \n",
    "    length=len(df)\n",
    "    dsx=df['longitude'][0]\n",
    "    dsy=df['latitude'][0]\n",
    "    dex=df['longitude'][length-1]\n",
    "    dey=df['latitude'][length-1]\n",
    "    cal_dis=geodesic((dsy,dsx), (dey,dex)).km#截取出来的一段距离\n",
    "    cut_label=(df['timestamp'][length-1]-df['timestamp'][0]).total_seconds()/3600\n",
    "    \n",
    "    cal_speed=cal_dis/(cut_label+0.1)\n",
    "    df['lat_diff']=df['latitude'].diff(1)\n",
    "    df['lon_diff']=df['longitude'].diff(1)\n",
    "    df['k']=df['lat_diff']/df['lon_diff']\n",
    "    #\n",
    "    df['speed_diff'] = df['speed'].diff(1)#速度变化量\n",
    "    df['diff_minutes'] =df['timestamp'].diff(1).dt.total_seconds() / 60#记录之间的间隔时间(单位:s)\n",
    "    #\n",
    "    k_1_4=df['k'].quantile(0.25)\n",
    "    k_median=df['k'].quantile(0.5)\n",
    "    k_3_4=df['k'].quantile(0.75)\n",
    "    #在所有的记录中，多少记录是停船状态\n",
    "    #df['anchor'] = ((df['lat_diff'] <= 0.03) & (df['lon_diff'] <= 0.03)& (df['speed_diff'] <= 0.3) & (df['diff_minutes'] <= 10)).astype(int)\n",
    "    df['anchor'] = ((df['lat_diff'].abs() <= 0.03) & (df['lon_diff'].abs() <= 0.03)& (df['speed_diff'] <= 0.3) & (df['diff_minutes'] >= 10)).astype(int)\n",
    "\n",
    "    anchor_cnt = df['anchor'].sum()\n",
    "    anchor_ratio = anchor_cnt / len(df)\n",
    "    #\n",
    "    lat_1_4=df['latitude'].quantile(0.25)\n",
    "    lat_3_4=df['latitude'].quantile(0.75)\n",
    "    lat_min=df['latitude'].min()\n",
    "    lat_max=df['latitude'].max()\n",
    "    lat_mean=df['latitude'].mean()\n",
    "    lat_median=df['latitude'].median()\n",
    "    #\n",
    "    lon_1_4=df['longitude'].quantile(0.25)\n",
    "    lon_3_4=df['longitude'].quantile(0.75)\n",
    "    longitude_1_4=df['longitude'].quantile(0.25)\n",
    "    longitude_3_4=df['longitude'].quantile(0.75)\n",
    "    lon_min=df['longitude'].min()\n",
    "    lon_max=df['longitude'].max()\n",
    "    lon_mean=df['longitude'].mean()\n",
    "    lon_median=df['longitude'].median()\n",
    "    #\n",
    "    speed_1_4=df['speed'].quantile(0.25)\n",
    "    speed_3_4=df['speed'].quantile(0.75)\n",
    "    speed_max=df['speed'].max()\n",
    "    speed_mean=df['speed'].mean()\n",
    "    speed_median=df['speed'].median()\n",
    "    #\n",
    "    direction_1_4=df['direction'].quantile(0.25)\n",
    "    direction_3_4=df['direction'].quantile(0.75)\n",
    "    direction_min=df['direction'].min()\n",
    "    direction_max=df['direction'].max()\n",
    "    direction_mean=df['direction'].mean()\n",
    "    direction_median=df['direction'].median()\n",
    "    #\n",
    "    feature.append(k_1_4)\n",
    "    feature.append(k_3_4)\n",
    "    feature.append(k_median)\n",
    "    feature.append(anchor_cnt)\n",
    "    feature.append(anchor_ratio)\n",
    "    #\n",
    "    feature.append(lat_1_4)\n",
    "    feature.append(lat_3_4)\n",
    "    feature.append(lat_max)\n",
    "    feature.append(lat_min)\n",
    "    feature.append(lat_median)\n",
    "    feature.append(lat_mean)\n",
    "    #\n",
    "    feature.append(lon_1_4)\n",
    "    feature.append(lon_3_4)\n",
    "    feature.append(lon_max)\n",
    "    feature.append(lon_min)\n",
    "    feature.append(lon_median)\n",
    "    feature.append(lon_mean)\n",
    "    #\n",
    "    feature.append(speed_1_4)\n",
    "    feature.append(speed_3_4)\n",
    "    feature.append(speed_max)\n",
    "    feature.append(speed_median)\n",
    "    feature.append(speed_mean)\n",
    "    #\n",
    "    feature.append(direction_1_4)\n",
    "    feature.append(direction_3_4)\n",
    "    feature.append(direction_max)\n",
    "    feature.append(direction_min)\n",
    "    feature.append(direction_median)\n",
    "    feature.append(direction_mean)\n",
    "    #\n",
    "    feature.append(sx)\n",
    "    feature.append(sy)\n",
    "    feature.append(ex)\n",
    "    feature.append(ey)\n",
    "    feature.append(dis)\n",
    "    feature.append(lon_dis)\n",
    "    feature.append(lat_dis)\n",
    "    feature.append(cal_speed)\n",
    "    feature.append(dis_sqrt)\n",
    "    feature.append(label)\n",
    "\n",
    "    return feature\n",
    "#\n",
    "import random\n",
    "from geopy.distance import geodesic\n",
    "import time\n",
    "def make_train_data(df):\n",
    "    features=[]\n",
    "    grouped=df.groupby('loadingOrder')\n",
    "    #\n",
    "    start_time=time.time()\n",
    "    print('正在构造训练数据')\n",
    "    start_time=time.time()\n",
    "    #cuts=[(0.1,0.3),(0.2,0.5),(0.4,0.7),(0.5,0.8),(0.6,0.9),(0.25,0.75),(0.15,0.85),(0.2,0.8)]\n",
    "    cuts=[(0.2,0.9),(0.1,0.8),(0.05,0.95)]\n",
    "    cnt=0\n",
    "    for name,group in grouped:\n",
    "        cnt+=1\n",
    "        if cnt%1000==0:\n",
    "            print(cnt)\n",
    "        sample_trace=group.reset_index(drop=True)\n",
    "        for bottom,top in cuts:\n",
    "            features.append(get_train_feature(sample_trace,bottom,top))\n",
    "    print(\"构造训练特征所花费时间%.3fs\"%(time.time()-start_time))\n",
    "    return features\n",
    "#\n",
    "train_features=make_train_data(gpsdf)"
   ]
  },
  {
   "cell_type": "markdown",
   "metadata": {},
   "source": [
    "## 观察训练数据标签的分布\n",
    "- 最长时间:86.28858796296296 day\n",
    "- 最短时间:0.0 day\n",
    "- 平均时间:16.70094809971483 day\n",
    "\n",
    "## 而测试数据中已知的轨迹长度为：\n",
    "- 最长时间:16.88171296296296 day\n",
    "- 最短时间:0.046527777777777786 day\n",
    "- 平均时间:4.325498415081749 day\n"
   ]
  },
  {
   "cell_type": "code",
   "execution_count": 62,
   "metadata": {},
   "outputs": [],
   "source": [
    "#\n",
    "test_data_path='../R2 ATest 0711Clean.csv'\n",
    "df_test=pd.read_csv(test_data_path)\n",
    "df_test=get_data(df_test, mode='test')"
   ]
  },
  {
   "cell_type": "code",
   "execution_count": 63,
   "metadata": {},
   "outputs": [
    {
     "data": {
      "text/plain": [
       "33.34361353710392"
      ]
     },
     "execution_count": 63,
     "metadata": {},
     "output_type": "execute_result"
    }
   ],
   "source": [
    "geodesic((22,114), (28.6,149.4)).km-3592.044777704557"
   ]
  },
  {
   "cell_type": "code",
   "execution_count": 64,
   "metadata": {},
   "outputs": [],
   "source": [
    "#df_test[df_test['loadingOrder'].isin(['DH829189593918'])]"
   ]
  },
  {
   "cell_type": "code",
   "execution_count": 65,
   "metadata": {},
   "outputs": [
    {
     "name": "stdout",
     "output_type": "stream",
     "text": [
      "SZ109188860665 1.0\n",
      "NH240192470616 3.0\n",
      "JB123387157454 3.0\n",
      "ZO975754571124 3.0\n",
      "DH829189593918 105.0\n",
      "80 105.0\n",
      "LE381377964668 68.0\n",
      "89 68.0\n",
      "ZX552539758501 1.0\n",
      "TB846768731403 4.0\n",
      "HQ193237808500 1.0\n",
      "QK696918637480 8.0\n"
     ]
    }
   ],
   "source": [
    "#判断onboard_time和第一条记录的时间是否相等\n",
    "#总共10个运单的onboard/第一条时间差距大于一个小时，大于一天的有两个运单\n",
    "#'DH829189593918':105h;'LE381377964668':68.0\n",
    "grouped=df_test.groupby('loadingOrder',sort=False)\n",
    "cnt=0\n",
    "for name,group in grouped:\n",
    "    group=group.reset_index(drop=True)\n",
    "    dft=pd.to_datetime(group['timestamp'] ).apply(lambda x: x.replace(tzinfo=None))\n",
    "    delta=(dft[:1][0]-group['onboardDate'][:1][0]).total_seconds()//3600\n",
    "    if delta!=0:\n",
    "        print(name,delta)#总共10个运单的onboard和第一条时间戳不一致\n",
    "    if name=='DH829189593918' or name=='LE381377964668':\n",
    "        print(cnt,delta)\n",
    "    cnt+=1\n",
    "#这里面的10个不一致的订单是需要最好减掉的"
   ]
  },
  {
   "cell_type": "code",
   "execution_count": 66,
   "metadata": {},
   "outputs": [
    {
     "data": {
      "text/plain": [
       "\"\\nlen_list=[]\\ndelta=[]\\ngrouped=df_test.groupby('loadingOrder')\\nfor name,group in grouped:\\n    len_list.append(len(group))\\n    group=group.reset_index(drop=True)\\n    tmp=group['timestamp'].values\\n    delta.append(pd.Timedelta((tmp[-1]-tmp[1])).total_seconds()/3600/24)\\n    if len(group)<10:\\n        print(name)\\n\\nprint(np.min(len_list),np.mean(len_list),np.max(len_list))\\n    \\nprint(np.min(delta),np.mean(delta),np.max(delta))\\n\""
      ]
     },
     "execution_count": 66,
     "metadata": {},
     "output_type": "execute_result"
    }
   ],
   "source": [
    "'''\n",
    "len_list=[]\n",
    "delta=[]\n",
    "grouped=df_test.groupby('loadingOrder')\n",
    "for name,group in grouped:\n",
    "    len_list.append(len(group))\n",
    "    group=group.reset_index(drop=True)\n",
    "    tmp=group['timestamp'].values\n",
    "    delta.append(pd.Timedelta((tmp[-1]-tmp[1])).total_seconds()/3600/24)\n",
    "    if len(group)<10:\n",
    "        print(name)\n",
    "\n",
    "print(np.min(len_list),np.mean(len_list),np.max(len_list))\n",
    "    \n",
    "print(np.min(delta),np.mean(delta),np.max(delta))\n",
    "'''\n"
   ]
  },
  {
   "cell_type": "code",
   "execution_count": 67,
   "metadata": {},
   "outputs": [],
   "source": [
    "#sorted(len_list)"
   ]
  },
  {
   "cell_type": "markdown",
   "metadata": {},
   "source": [
    "# 测试数据:共94对(31对中间港口，最多中间港有14个)港口，219条运单，其中很多含有中间港口"
   ]
  },
  {
   "cell_type": "code",
   "execution_count": 68,
   "metadata": {},
   "outputs": [],
   "source": [
    "def convert_name_xy(name):#输入港口名称\n",
    "    port_name=port[port['TRANS_NODE_NAME'].isin([name])].reset_index()\n",
    "    return port_name['LONGITUDE'][0],port_name['LATITUDE'][0]#返回港口经纬度\n",
    "#  \n",
    "start_x=[]#起点\n",
    "start_y=[]#起点\n",
    "end_x=[]#终点\n",
    "end_y=[]#终点\n",
    "#存储中间结果,避免重复计算\n",
    "temp_dic={}\n",
    "for value in df_test['TRANSPORT_TRACE']:\n",
    "    s_e=value.split('-')\n",
    "    start_port=s_e[0]\n",
    "    end_port=s_e[-1]\n",
    "    if start_port in temp_dic:\n",
    "        re=temp_dic[start_port]\n",
    "    else:\n",
    "        re=convert_name_xy(start_port)\n",
    "        temp_dic[start_port]=re\n",
    "    start_x.append(re[0])\n",
    "    start_y.append(re[1])\n",
    "    if end_port in temp_dic:\n",
    "        re=temp_dic[end_port]\n",
    "    else:\n",
    "        re=convert_name_xy(end_port)\n",
    "        temp_dic[end_port]=re\n",
    "    end_x.append(re[0])\n",
    "    end_y.append(re[1])\n",
    "df_test['start_x']=start_x\n",
    "df_test['start_y']=start_y\n",
    "df_test['end_x']=end_x\n",
    "df_test['end_y']=end_y"
   ]
  },
  {
   "cell_type": "code",
   "execution_count": 69,
   "metadata": {},
   "outputs": [
    {
     "name": "stdout",
     "output_type": "stream",
     "text": [
      "finished1...\n",
      "正在构造测试数据........\n",
      "构造测试数据所花费时间2.729s\n"
     ]
    }
   ],
   "source": [
    "import time\n",
    "from geopy.distance import geodesic\n",
    "#\n",
    "def cal_turn_dis(portNames):\n",
    "    xx=[]\n",
    "    yy=[]\n",
    "    dis=0\n",
    "    lon_dis=0\n",
    "    lat_dis=0\n",
    "    dis_sqrt=0\n",
    "    for name in portNames:\n",
    "        xx.append(convert_name_xy(name)[0])\n",
    "        yy.append(convert_name_xy(name)[1])\n",
    "    for i in range(1,len(xx)):\n",
    "        dis+=geodesic((yy[i-1],xx[i-1]), (yy[i],xx[i])).km\n",
    "        lon_dis+=abs(xx[i]-xx[i-1])\n",
    "        lat_dis+=abs(yy[i]-yy[i-1])\n",
    "        dis_sqrt+=np.sqrt(abs(xx[i]-xx[i-1])**2+abs(yy[i]-yy[i-1])**2)\n",
    "    return dis,lon_dis,lat_dis,dis_sqrt\n",
    "def get_test_feature(df,name):\n",
    "    #dis,lon_dis,lat_dis,dis_sqrt=cal_turn_dis(portNames)\n",
    "    df.sort_values(['timestamp'], inplace=True)\n",
    "    df=df.reset_index(drop=True)\n",
    "    feature=[]\n",
    "    length=len(df)\n",
    "    dsx=df['longitude'][0]\n",
    "    dsy=df['latitude'][0]\n",
    "    dex=df['longitude'][length-1]\n",
    "    dey=df['latitude'][length-1]\n",
    "    #\n",
    "    sx=df['longitude'][0]\n",
    "    sy=df['latitude'][0]\n",
    "    ex=df['end_x'][length-1]\n",
    "    ey=df['end_y'][length-1]\n",
    "    \n",
    "    dis=geodesic((sy,sx), (ey,ex)).km\n",
    "    lon_dis=abs(ex-sx)\n",
    "    lat_dis=abs(ey-sy)\n",
    "    dis_sqrt=np.sqrt(lon_dis*lon_dis+lat_dis*lat_dis)\n",
    "    \n",
    "    label=(df['timestamp'][length-1]-df['timestamp'][0]).total_seconds()/3600\n",
    "    cal_dis=geodesic((dsy,dsx), (dey,dex)).km\n",
    "    cal_speed=cal_dis/(label+0.1)\n",
    "    df['lat_diff']=df['latitude'].diff(1)\n",
    "    df['lon_diff']=df['longitude'].diff(1)\n",
    "    df['k']=df['lat_diff']/df['lon_diff']\n",
    "    #\n",
    "    df['speed_diff'] = df['speed'].diff(1)#速度变化量\n",
    "    df['diff_minutes'] =df['timestamp'].diff(1).dt.total_seconds() / 60#记录之间的间隔时间(单位:s)\n",
    "    #\n",
    "    k_1_4=df['k'].quantile(0.25)\n",
    "    k_median=df['k'].quantile(0.5)\n",
    "    k_3_4=df['k'].quantile(0.75)\n",
    "    #在所有的记录中，多少记录是停船状态\n",
    "    df['anchor'] = ((df['lat_diff'].abs() <= 0.03) & (df['lon_diff'].abs() <= 0.03)& (df['speed_diff'] <= 0.3) & (df['diff_minutes'] >= 15)).astype(int)\n",
    "\n",
    "    anchor_cnt = df['anchor'].sum()\n",
    "    anchor_ratio = anchor_cnt / len(df)\n",
    "    #\n",
    "    lat_1_4=df['latitude'].quantile(0.25)\n",
    "    lat_3_4=df['latitude'].quantile(0.75)\n",
    "    lat_min=df['latitude'].min()\n",
    "    lat_max=df['latitude'].max()\n",
    "    lat_mean=df['latitude'].mean()\n",
    "    lat_median=df['latitude'].median()\n",
    "    #\n",
    "    lon_1_4=df['longitude'].quantile(0.25)\n",
    "    lon_3_4=df['longitude'].quantile(0.75)\n",
    "    longitude_1_4=df['longitude'].quantile(0.25)\n",
    "    longitude_3_4=df['longitude'].quantile(0.75)\n",
    "    lon_min=df['longitude'].min()\n",
    "    lon_max=df['longitude'].max()\n",
    "    lon_mean=df['longitude'].mean()\n",
    "    lon_median=df['longitude'].median()\n",
    "    #\n",
    "    speed_1_4=df['speed'].quantile(0.25)\n",
    "    speed_3_4=df['speed'].quantile(0.75)\n",
    "    speed_min=df['speed'].min()\n",
    "    speed_max=df['speed'].max()\n",
    "    speed_mean=df['speed'].mean()\n",
    "    speed_median=df['speed'].median()\n",
    "    #\n",
    "    direction_1_4=df['direction'].quantile(0.25)\n",
    "    direction_3_4=df['direction'].quantile(0.75)\n",
    "    direction_min=df['direction'].min()\n",
    "    direction_max=df['direction'].max()\n",
    "    direction_mean=df['direction'].mean()\n",
    "    direction_median=df['direction'].median()\n",
    "    #\n",
    "    feature.append(name)\n",
    "    feature.append(k_1_4)\n",
    "    feature.append(k_3_4)\n",
    "    feature.append(k_median)\n",
    "    feature.append(anchor_cnt)\n",
    "    feature.append(anchor_ratio)\n",
    "    #\n",
    "    feature.append(lat_1_4)\n",
    "    feature.append(lat_3_4)\n",
    "    feature.append(lat_max)\n",
    "    feature.append(lat_min)\n",
    "    feature.append(lat_median)\n",
    "    feature.append(lat_mean)\n",
    "    #\n",
    "    feature.append(lon_1_4)\n",
    "    feature.append(lon_3_4)\n",
    "    feature.append(lon_max)\n",
    "    feature.append(lon_min)\n",
    "    feature.append(lon_median)\n",
    "    feature.append(lon_mean)\n",
    "    #\n",
    "    feature.append(speed_1_4)\n",
    "    feature.append(speed_3_4)\n",
    "    feature.append(speed_max)\n",
    "    feature.append(speed_median)\n",
    "    feature.append(speed_mean)\n",
    "    #\n",
    "    feature.append(direction_1_4)\n",
    "    feature.append(direction_3_4)\n",
    "    feature.append(direction_max)\n",
    "    feature.append(direction_min)\n",
    "    feature.append(direction_median)\n",
    "    feature.append(direction_mean)\n",
    "    #\n",
    "    feature.append(sx)\n",
    "    feature.append(sy)\n",
    "    feature.append(ex)\n",
    "    feature.append(ey)\n",
    "    feature.append(dis)\n",
    "    feature.append(lon_dis)\n",
    "    feature.append(lat_dis)\n",
    "    feature.append(cal_speed)\n",
    "    feature.append(dis_sqrt)\n",
    "    feature.append(label)\n",
    "    \n",
    "    return feature\n",
    "#\n",
    "import random\n",
    "from geopy.distance import geodesic\n",
    "import time\n",
    "def make_test_data(df):\n",
    "    features=[]\n",
    "    grouped=df.groupby('loadingOrder',sort=False)\n",
    "    print('finished1...')\n",
    "    #\n",
    "    start_time=time.time()\n",
    "    print('正在构造测试数据........')\n",
    "    start_time=time.time()\n",
    "    for name,group in grouped:\n",
    "        #\n",
    "        sample_trace=group.reset_index(drop=True)\n",
    "        features.append(get_test_feature(sample_trace,name))\n",
    "    print(\"构造测试数据所花费时间%.3fs\"%(time.time()-start_time))\n",
    "    return features\n",
    "#下面只需要保留原始数据cut之前的数据\n",
    "test_features=make_test_data(df_test)"
   ]
  },
  {
   "cell_type": "code",
   "execution_count": 70,
   "metadata": {},
   "outputs": [],
   "source": [
    "train=DataFrame(train_features)\n",
    "train.columns=['k_1_4','k_3_4','k_median','anchor_cnt','anchor_ratio','lat_1_4','lat_3_4','lat_max','lat_min'\n",
    "    ,'lat_median','lat_mean','lon_1_4','lon_3_4','lon_max','lon_min','lon_median','lon_mean'\n",
    "    'speed_1_4','speed_3_4','speed_min','speed_max','speed_median','speed_mean','direction_1_4','direction_3_4','direction_max'\n",
    "    ,'direction_min','direction_median','direction_mean','sx','sy','ex','ey'\n",
    "    ,'dis','lon_dis','lat_dis','cal_speed','dis_sqrt','label']\n",
    "#train=train[train['label']>0.02*24]#筛选训练样本，0.05天以内的不予考虑\n",
    "#train=train[train['label']<80*24]\n",
    "train.shape\n",
    "test=DataFrame(test_features)\n",
    "test.columns=['loadingOrder','k_1_4','k_3_4','k_median','anchor_cnt','anchor_ratio','lat_1_4','lat_3_4','lat_max','lat_min'\n",
    "    ,'lat_median','lat_mean','lon_1_4','lon_3_4','lon_max','lon_min','lon_median','lon_mean'\n",
    "    'speed_1_4','speed_3_4','speed_min','speed_max','speed_median','speed_mean','direction_1_4','direction_3_4','direction_max'\n",
    "    ,'direction_min','direction_median','direction_mean','sx','sy','ex','ey'\n",
    "    ,'dis','lon_dis','lat_dis','cal_speed','dis_sqrt','label']"
   ]
  },
  {
   "cell_type": "code",
   "execution_count": 71,
   "metadata": {},
   "outputs": [
    {
     "name": "stdout",
     "output_type": "stream",
     "text": [
      "最长时间:47.644189814814816 day\n",
      "最短时间:0.05611111111111111 day\n",
      "平均时间:12.61180331909686 day\n"
     ]
    },
    {
     "data": {
      "image/png": "[encoded data removed]",
      "text/plain": [
       "<Figure size 432x288 with 1 Axes>"
      ]
     },
     "metadata": {
      "needs_background": "light"
     },
     "output_type": "display_data"
    }
   ],
   "source": [
    "train_label=np.array(train['label']/24)\n",
    "##观察下预测结果的分布\n",
    "name_cnt={}#{订单号：对应的事件记录条数}\n",
    "tmp=[]\n",
    "print(\"最长时间:%s day\"%(np.max(train_label)))\n",
    "print(\"最短时间:%s day\"%np.min(train_label))\n",
    "print(\"平均时间:%s day\"%np.mean(train_label))\n",
    "#画出分布直方图\n",
    "import pylab as plt \n",
    "bins = np.linspace(int(min(train_label)),int(max(train_label)),int(max(train_label)))\n",
    "plt.hist(train_label,bins)\n",
    "plt.xlabel('ETA of orders ')\n",
    "plt.ylabel('Number of orders')\n",
    "plt.title('train lables')\n",
    "plt.show()"
   ]
  },
  {
   "cell_type": "markdown",
   "metadata": {},
   "source": [
    "## 观察下测试集中给了多少天的轨迹数据\n",
    "- 最长时间:16.88171296296296 day\n",
    "- 最短时间:0.046527777777777786 day\n",
    "- 平均时间:4.325498415081749 day"
   ]
  },
  {
   "cell_type": "code",
   "execution_count": 72,
   "metadata": {},
   "outputs": [
    {
     "name": "stdout",
     "output_type": "stream",
     "text": [
      "最长时间:26.122685185185187 day\n",
      "最短时间:0.004050925925925926 day\n",
      "平均时间:2.532971064814815 day\n"
     ]
    },
    {
     "data": {
      "image/png": "[encoded data removed]",
      "text/plain": [
       "<Figure size 432x288 with 1 Axes>"
      ]
     },
     "metadata": {
      "needs_background": "light"
     },
     "output_type": "display_data"
    }
   ],
   "source": [
    "#观察下测试集中给了多少天的轨迹数据\n",
    "test_label=np.array(test['label']/24)\n",
    "##观察下预测结果的分布\n",
    "name_cnt={}#{订单号：对应的事件记录条数}\n",
    "tmp=[]\n",
    "print(\"最长时间:%s day\"%(np.max(test_label)))\n",
    "print(\"最短时间:%s day\"%np.min(test_label))\n",
    "print(\"平均时间:%s day\"%np.mean(test_label))\n",
    "#画出分布直方图\n",
    "import pylab as plt \n",
    "bins = np.linspace(int(min(test_label)),int(max(test_label)),int(max(test_label)))\n",
    "plt.hist(test_label,bins)\n",
    "plt.xlabel('ETA of orders ')\n",
    "plt.ylabel('Number of orders')\n",
    "plt.title('test lables')\n",
    "plt.show()"
   ]
  },
  {
   "cell_type": "markdown",
   "metadata": {},
   "source": [
    "## 搭建训练模型"
   ]
  },
  {
   "cell_type": "markdown",
   "metadata": {},
   "source": [
    "## xgb+lgb"
   ]
  },
  {
   "cell_type": "code",
   "execution_count": 73,
   "metadata": {},
   "outputs": [],
   "source": [
    "import xgboost as xgb\n",
    "import lightgbm as lgb\n",
    "from sklearn.ensemble import RandomForestRegressor\n",
    "from sklearn.model_selection import StratifiedKFold\n",
    "from sklearn.model_selection import train_test_split\n",
    "import pandas as pd\n",
    "from tqdm import tqdm\n",
    "import numpy as np\n",
    "from sklearn.model_selection import GridSearchCV\n",
    "from sklearn.metrics import mean_squared_error,explained_variance_score\n",
    "from sklearn.model_selection import KFold\n",
    "from matplotlib import pyplot as plt\n",
    "#from featexp import get_univariate_plots#用于特征筛选，需要先安装featexp\n",
    "%matplotlib inline\n",
    "import warnings\n",
    "warnings.filterwarnings('ignore')"
   ]
  },
  {
   "cell_type": "code",
   "execution_count": 74,
   "metadata": {},
   "outputs": [
    {
     "data": {
      "text/plain": [
       "((10842, 36), (200, 36))"
      ]
     },
     "execution_count": 74,
     "metadata": {},
     "output_type": "execute_result"
    }
   ],
   "source": [
    "#\n",
    "features =['k_1_4','k_3_4','k_median','anchor_ratio','lat_1_4','lat_3_4','lat_max','lat_min'\n",
    "    ,'lat_median','lat_mean','lon_1_4','lon_3_4','lon_max','lon_min','lon_median','lon_mean'\n",
    "    'speed_1_4','speed_3_4','speed_min','speed_max','speed_median','speed_mean','direction_1_4','direction_3_4','direction_max'\n",
    "    ,'direction_min','direction_median','direction_mean','sx','sy','ex','ey'\n",
    "    ,'dis','lon_dis','lat_dis','cal_speed','dis_sqrt']\n",
    "train_data=train[features]\n",
    "test_data=test[features]\n",
    "y=train['label']\n",
    "train_data.shape,test_data.shape"
   ]
  },
  {
   "cell_type": "code",
   "execution_count": 75,
   "metadata": {},
   "outputs": [
    {
     "data": {
      "text/plain": [
       "(7844.165809631035,\n",
       " 97.0799578083976,\n",
       " 91.25515196500001,\n",
       " 18.731318885,\n",
       " 20.60718950450928,\n",
       " 22.087051927824724)"
      ]
     },
     "execution_count": 75,
     "metadata": {},
     "output_type": "execute_result"
    }
   ],
   "source": [
    "np.mean(test_data['dis']),np.mean(test_data['dis_sqrt']),np.mean(test_data['lon_dis']),np.mean(test_data['lat_dis']),np.mean(test_data['cal_speed']),np.mean(test_data['speed_mean'])"
   ]
  },
  {
   "cell_type": "code",
   "execution_count": 76,
   "metadata": {},
   "outputs": [
    {
     "data": {
      "text/plain": [
       "(7101.583593005861,\n",
       " 81.06784493329286,\n",
       " 74.88407026978417,\n",
       " 22.939516828537172,\n",
       " 23.420169774774276,\n",
       " 24.115908892072348)"
      ]
     },
     "execution_count": 76,
     "metadata": {},
     "output_type": "execute_result"
    }
   ],
   "source": [
    "np.mean(train_data['dis']),np.mean(train_data['dis_sqrt']),np.mean(train_data['lon_dis']),np.mean(train_data['lat_dis']),np.mean(train_data['cal_speed']),np.mean(train_data['speed_mean'])"
   ]
  },
  {
   "cell_type": "code",
   "execution_count": 77,
   "metadata": {},
   "outputs": [],
   "source": [
    "#features =['k_median','speed_mean','direction_mean','dis','lon_dis','lat_dis','cal_speed','dis_sqrt']\n",
    "#train_data=train[features]\n",
    "#test_data=test[features]\n",
    "#y=train['label']\n",
    "#train_data.shape,test_data.shape"
   ]
  },
  {
   "cell_type": "code",
   "execution_count": 78,
   "metadata": {},
   "outputs": [],
   "source": [
    "#featuresx=[ 'dis','lon_dis','lat_dis','cal_speed']\n",
    "#train_data=train_data[featuresx]\n",
    "#test_data=test_data[featuresx]"
   ]
  },
  {
   "cell_type": "code",
   "execution_count": 79,
   "metadata": {},
   "outputs": [
    {
     "data": {
      "text/plain": [
       "'\\ndef pre_process(data):\\n    data=data.apply( lambda x: (x - x.mean()) / (x.std()))\\n    data=data.fillna(0.)\\n    return data\\n\\ntrain_test=pd.concat((train_data,test_data),axis=0).reset_index(drop=True)\\ntrain_test=pre_process(train_test)\\ntrain_data=train_test[:train_data.shape[0]].reset_index(drop=True)\\ntest_data=train_test[train_data.shape[0]:].reset_index(drop=True)\\n'"
      ]
     },
     "execution_count": 79,
     "metadata": {},
     "output_type": "execute_result"
    }
   ],
   "source": [
    "'''\n",
    "def pre_process(data):\n",
    "    data=data.apply( lambda x: (x - x.mean()) / (x.std()))\n",
    "    data=data.fillna(0.)\n",
    "    return data\n",
    "\n",
    "train_test=pd.concat((train_data,test_data),axis=0).reset_index(drop=True)\n",
    "train_test=pre_process(train_test)\n",
    "train_data=train_test[:train_data.shape[0]].reset_index(drop=True)\n",
    "test_data=train_test[train_data.shape[0]:].reset_index(drop=True)\n",
    "'''\n"
   ]
  },
  {
   "cell_type": "code",
   "execution_count": 80,
   "metadata": {},
   "outputs": [],
   "source": [
    "x_train,x_test,y_train,y_test=train_test_split(train_data,y,test_size=0.1,random_state=2020)"
   ]
  },
  {
   "cell_type": "code",
   "execution_count": 81,
   "metadata": {},
   "outputs": [
    {
     "data": {
      "text/plain": [
       "((9757, 36), (1085, 36))"
      ]
     },
     "execution_count": 81,
     "metadata": {},
     "output_type": "execute_result"
    }
   ],
   "source": [
    "x_train.shape,x_test.shape"
   ]
  },
  {
   "cell_type": "code",
   "execution_count": 82,
   "metadata": {},
   "outputs": [
    {
     "name": "stdout",
     "output_type": "stream",
     "text": [
      "val_mse: 2.177728e+02\n",
      "train_mse: 1.579003e+01\n"
     ]
    }
   ],
   "source": [
    "llf=gbm = lgb.LGBMRegressor(objective='regression',\n",
    "                        num_leaves=31,\n",
    "                        learning_rate=0.1,\n",
    "                        n_estimators=500)\n",
    "\n",
    "llf.fit(x_train,y_train)\n",
    "\n",
    "llf_val_mse=mean_squared_error(y_test,llf.predict(x_test))\n",
    "llf_train_mse=mean_squared_error(y_train,llf.predict(x_train))\n",
    "print('val_mse:','{:e}'.format(llf_val_mse))\n",
    "print('train_mse:','{:e}'.format(llf_train_mse))"
   ]
  },
  {
   "cell_type": "code",
   "execution_count": 83,
   "metadata": {},
   "outputs": [
    {
     "name": "stdout",
     "output_type": "stream",
     "text": [
      "val_mse: 2.515409e+02\n",
      "train_mse: 1.256380e+01\n"
     ]
    }
   ],
   "source": [
    "#\n",
    "other_params = {'learning_rate': 0.05, 'n_estimators': 500, 'max_depth': 7, 'min_child_weight': 1, 'seed': 0,\n",
    "                'subsample': 0.8, 'colsample_bytree': 0.8, 'gamma': 0, 'reg_alpha': 0, 'reg_lambda': 1}\n",
    "\n",
    "xlf = xgb.XGBRegressor(**other_params)\n",
    "xlf.fit(x_train,y_train)\n",
    "xlf_val_mse=mean_squared_error(y_test,xlf.predict(x_test))\n",
    "xlf_train_mse=mean_squared_error(y_train,xlf.predict(x_train))\n",
    "print('val_mse:','{:e}'.format(xlf_val_mse))\n",
    "print('train_mse:','{:e}'.format(xlf_train_mse))"
   ]
  },
  {
   "cell_type": "code",
   "execution_count": 84,
   "metadata": {},
   "outputs": [
    {
     "name": "stdout",
     "output_type": "stream",
     "text": [
      "第1次验证mse误差为214.293933\n",
      "第2次验证mse误差为213.473831\n",
      "第3次验证mse误差为245.788997\n",
      "第4次验证mse误差为191.441494\n",
      "第5次验证mse误差为346.476270\n",
      "平均验证误差242.294905\n"
     ]
    }
   ],
   "source": [
    "details=[]\n",
    "answers=np.zeros(len(test))\n",
    "n_splits=5\n",
    "cnt=0\n",
    "mean_error=0\n",
    "sk=KFold(n_splits=n_splits,shuffle=True,random_state=2020)\n",
    "for train_k,test_k in sk.split(train_data,y):\n",
    "    cnt+=1\n",
    "    x_train=train_data.iloc[train_k]\n",
    "    y_train=y.iloc[train_k]\n",
    "    x_test=train_data.iloc[test_k]\n",
    "    y_test=y.iloc[test_k]\n",
    "    \n",
    "    xlf.fit(x_train,y_train)\n",
    "    pred_xgb=xlf.predict(x_test)\n",
    "    weight_xgb=mean_squared_error(y_test,pred_xgb)\n",
    "    \n",
    "    llf.fit(x_train,y_train)\n",
    "    pred_llf=llf.predict(x_test)\n",
    "    weight_lgb=mean_squared_error(y_test,pred_llf)\n",
    "    \n",
    "    \n",
    "    prob_xgb=xlf.predict(x_test)\n",
    "    prob_lgb=llf.predict(x_test)\n",
    "    \n",
    "    errors=[]\n",
    "    ij=[]\n",
    "    weight=np.arange(0,1.05,0.1)\n",
    "    for i,item in enumerate(weight):\n",
    "        prob_end=prob_xgb*item+prob_lgb*(1-item)\n",
    "        error=mean_squared_error(y_test,prob_end)\n",
    "        errors.append(error)\n",
    "        ij.append((item,1-item))\n",
    "    \n",
    "    ii=ij[np.argmin(errors)][0]\n",
    "    jj=ij[np.argmin(errors)][1]\n",
    "    \n",
    "    details.append(min(errors))\n",
    "    details.append(weight_xgb)\n",
    "    details.append(weight_lgb)\n",
    "    details.append(ii)\n",
    "    details.append(jj)\n",
    "\n",
    "    print(\"第%d次验证mse误差为%f\" %(cnt,min(errors)))\n",
    "   \n",
    "    test_xgb=xlf.predict(test_data)\n",
    "    test_lgb=llf.predict(test_data)\n",
    "    ans=test_xgb*ii+test_lgb*jj\n",
    "    ans=test_lgb\n",
    "    mean_error+=min(errors)/n_splits\n",
    "    answers+=ans/n_splits\n",
    "print(\"平均验证误差%f\"%mean_error)"
   ]
  },
  {
   "cell_type": "markdown",
   "metadata": {},
   "source": [
    "## 观察训练/验证过程"
   ]
  },
  {
   "cell_type": "code",
   "execution_count": 85,
   "metadata": {},
   "outputs": [
    {
     "data": {
      "text/html": [
       "<div>\n",
       "<style scoped>\n",
       "    .dataframe tbody tr th:only-of-type {\n",
       "        vertical-align: middle;\n",
       "    }\n",
       "\n",
       "    .dataframe tbody tr th {\n",
       "        vertical-align: top;\n",
       "    }\n",
       "\n",
       "    .dataframe thead th {\n",
       "        text-align: right;\n",
       "    }\n",
       "</style>\n",
       "<table border=\"1\" class=\"dataframe\">\n",
       "  <thead>\n",
       "    <tr style=\"text-align: right;\">\n",
       "      <th></th>\n",
       "      <th>test_end_score</th>\n",
       "      <th>xgboost</th>\n",
       "      <th>lightgbm</th>\n",
       "      <th>weight_xgboost</th>\n",
       "      <th>weight_lightgbm</th>\n",
       "    </tr>\n",
       "  </thead>\n",
       "  <tbody>\n",
       "    <tr>\n",
       "      <th>0</th>\n",
       "      <td>214.293933</td>\n",
       "      <td>242.775065</td>\n",
       "      <td>221.744505</td>\n",
       "      <td>0.3</td>\n",
       "      <td>0.7</td>\n",
       "    </tr>\n",
       "    <tr>\n",
       "      <th>1</th>\n",
       "      <td>213.473831</td>\n",
       "      <td>243.528864</td>\n",
       "      <td>227.422803</td>\n",
       "      <td>0.4</td>\n",
       "      <td>0.6</td>\n",
       "    </tr>\n",
       "    <tr>\n",
       "      <th>2</th>\n",
       "      <td>245.788997</td>\n",
       "      <td>280.928660</td>\n",
       "      <td>253.622751</td>\n",
       "      <td>0.3</td>\n",
       "      <td>0.7</td>\n",
       "    </tr>\n",
       "    <tr>\n",
       "      <th>3</th>\n",
       "      <td>191.441494</td>\n",
       "      <td>209.792792</td>\n",
       "      <td>203.475570</td>\n",
       "      <td>0.4</td>\n",
       "      <td>0.6</td>\n",
       "    </tr>\n",
       "    <tr>\n",
       "      <th>4</th>\n",
       "      <td>346.476270</td>\n",
       "      <td>404.654672</td>\n",
       "      <td>348.753245</td>\n",
       "      <td>0.2</td>\n",
       "      <td>0.8</td>\n",
       "    </tr>\n",
       "  </tbody>\n",
       "</table>\n",
       "</div>"
      ],
      "text/plain": [
       "   test_end_score     xgboost    lightgbm  weight_xgboost  weight_lightgbm\n",
       "0      214.293933  242.775065  221.744505             0.3              0.7\n",
       "1      213.473831  243.528864  227.422803             0.4              0.6\n",
       "2      245.788997  280.928660  253.622751             0.3              0.7\n",
       "3      191.441494  209.792792  203.475570             0.4              0.6\n",
       "4      346.476270  404.654672  348.753245             0.2              0.8"
      ]
     },
     "execution_count": 85,
     "metadata": {},
     "output_type": "execute_result"
    }
   ],
   "source": [
    "#观察训练/验证过程\n",
    "df=pd.DataFrame(np.array(details).reshape(int(len(details)/5),5)\n",
    "                ,columns=['test_end_score','xgboost','lightgbm','weight_xgboost','weight_lightgbm',])\n",
    "df"
   ]
  },
  {
   "cell_type": "markdown",
   "metadata": {},
   "source": [
    "## 观察预测结果的分布"
   ]
  },
  {
   "cell_type": "code",
   "execution_count": 86,
   "metadata": {},
   "outputs": [
    {
     "name": "stdout",
     "output_type": "stream",
     "text": [
      "预测的最长时间:34.22255558602563 day\n",
      "预测的最短时间:0.36308368925485907 day\n",
      "预测的平均时间:13.658684069627926 day\n"
     ]
    },
    {
     "data": {
      "image/png": "[encoded data removed]",
      "text/plain": [
       "<Figure size 432x288 with 1 Axes>"
      ]
     },
     "metadata": {
      "needs_background": "light"
     },
     "output_type": "display_data"
    }
   ],
   "source": [
    "##观察下预测结果的分布\n",
    "re_day=answers/24\n",
    "name_cnt={}#{订单号：对应的事件记录条数}\n",
    "tmp=[]\n",
    "print(\"预测的最长时间:%s day\"%(np.max(re_day)))\n",
    "print(\"预测的最短时间:%s day\"%np.min(re_day))\n",
    "print(\"预测的平均时间:%s day\"%np.mean(re_day))\n",
    "#画出分布直方图\n",
    "import pylab as plt \n",
    "bins = np.linspace(int(min(re_day)),int(max(re_day)),int(max(re_day)))\n",
    "plt.hist(re_day,bins)\n",
    "plt.xlabel('ETA of orders ')\n",
    "plt.ylabel('Number of orders')\n",
    "plt.show()\n",
    "plt.close()"
   ]
  },
  {
   "cell_type": "code",
   "execution_count": 95,
   "metadata": {},
   "outputs": [
    {
     "name": "stdout",
     "output_type": "stream",
     "text": [
      "answer与ans1_5k的mse:6963\n",
      "answer与ans_10k的mse:7514\n",
      "ans1_5k与ans_10k的mse:4251\n"
     ]
    }
   ],
   "source": [
    "#\n",
    "ans1_5k=np.load('../submit/1_5k.npy')\n",
    "ans_10k=np.load('../submit/ans_10k.npy')\n",
    "print(\"answer与ans1_5k的mse:%.0f\"%mean_squared_error(answers,ans1_5k))\n",
    "print(\"answer与ans_10k的mse:%.0f\"%mean_squared_error(answers,ans_10k))\n",
    "print(\"ans1_5k与ans_10k的mse:%.0f\"%mean_squared_error(ans1_5k,ans_10k))"
   ]
  },
  {
   "cell_type": "code",
   "execution_count": 96,
   "metadata": {},
   "outputs": [],
   "source": [
    "del_index=[5,\n",
    "30,\n",
    "31,\n",
    "41,\n",
    "50,\n",
    "58,\n",
    "131,\n",
    "134,\n",
    "144,\n",
    "150,\n",
    "153,\n",
    "154,\n",
    "156,\n",
    "157,\n",
    "164,\n",
    "165,\n",
    "172,\n",
    "179,\n",
    "192]\n",
    "ans_10k=np.load('../submit/rxd_pre_6k9.npy')\n",
    "ans_10k=np.delete(ans_10k, del_index)\n",
    "np.save('../submit/rxd_6k9.npy',ans_10k)"
   ]
  },
  {
   "cell_type": "code",
   "execution_count": 57,
   "metadata": {},
   "outputs": [
    {
     "name": "stdout",
     "output_type": "stream",
     "text": [
      "251.5655858583791 3\n",
      "250.81585581082243 5\n",
      "237.2369642572835 66\n",
      "224.3347031242829 91\n",
      "250.6704997434813 93\n",
      "228.55973590753092 99\n",
      "292.0004513617529 127\n",
      "209.91981954293246 129\n",
      "300.51079097248885 133\n",
      "278.30592640138684 134\n",
      "315.6826686469656 135\n",
      "224.6017114997566 174\n"
     ]
    }
   ],
   "source": [
    "deltaSub=abs(ans1_5k-answers)\n",
    "for i in range(len(deltaSub)):\n",
    "    if deltaSub[i]>200:\n",
    "        print(deltaSub[i],i)"
   ]
  },
  {
   "cell_type": "code",
   "execution_count": 112,
   "metadata": {},
   "outputs": [
    {
     "data": {
      "text/plain": [
       "(154.19949349357455, 454.2184355555555)"
      ]
     },
     "execution_count": 112,
     "metadata": {},
     "output_type": "execute_result"
    }
   ],
   "source": [
    "answers[143],dw4k[143]"
   ]
  },
  {
   "cell_type": "code",
   "execution_count": 111,
   "metadata": {},
   "outputs": [
    {
     "data": {
      "text/plain": [
       "'JV646262964847'"
      ]
     },
     "execution_count": 111,
     "metadata": {},
     "output_type": "execute_result"
    }
   ],
   "source": [
    "uniq_order=df_test['loadingOrder'].unique()\n",
    "uniq_order[143]"
   ]
  },
  {
   "cell_type": "code",
   "execution_count": 104,
   "metadata": {},
   "outputs": [],
   "source": [
    "def tmp_func():\n",
    "    grouped=df_test.groupby('loadingOrder',sort=False)\n",
    "    cnt=0\n",
    "    for name,group in grouped:\n",
    "        group=group.reset_index(drop=True)\n",
    "        if group"
   ]
  },
  {
   "cell_type": "code",
   "execution_count": 97,
   "metadata": {},
   "outputs": [
    {
     "data": {
      "text/plain": [
       "3.3197652868830527"
      ]
     },
     "execution_count": 97,
     "metadata": {},
     "output_type": "execute_result"
    }
   ],
   "source": [
    "geodesic((16,67), (16.03,67)).km"
   ]
  },
  {
   "cell_type": "code",
   "execution_count": 114,
   "metadata": {},
   "outputs": [
    {
     "data": {
      "text/html": [
       "<div>\n",
       "<style scoped>\n",
       "    .dataframe tbody tr th:only-of-type {\n",
       "        vertical-align: middle;\n",
       "    }\n",
       "\n",
       "    .dataframe tbody tr th {\n",
       "        vertical-align: top;\n",
       "    }\n",
       "\n",
       "    .dataframe thead th {\n",
       "        text-align: right;\n",
       "    }\n",
       "</style>\n",
       "<table border=\"1\" class=\"dataframe\">\n",
       "  <thead>\n",
       "    <tr style=\"text-align: right;\">\n",
       "      <th></th>\n",
       "      <th>loadingOrder</th>\n",
       "      <th>timestamp</th>\n",
       "      <th>longitude</th>\n",
       "      <th>latitude</th>\n",
       "      <th>speed</th>\n",
       "      <th>direction</th>\n",
       "      <th>carrierName</th>\n",
       "      <th>vesselMMSI</th>\n",
       "      <th>onboardDate</th>\n",
       "      <th>TRANSPORT_TRACE</th>\n",
       "      <th>temp_timestamp</th>\n",
       "      <th>start_x</th>\n",
       "      <th>start_y</th>\n",
       "      <th>end_x</th>\n",
       "      <th>end_y</th>\n",
       "    </tr>\n",
       "  </thead>\n",
       "  <tbody>\n",
       "    <tr>\n",
       "      <th>39291</th>\n",
       "      <td>JV646262964847</td>\n",
       "      <td>2020-04-28 00:02:43+00:00</td>\n",
       "      <td>-99.905583</td>\n",
       "      <td>16.499700</td>\n",
       "      <td>33.0</td>\n",
       "      <td>11200.0</td>\n",
       "      <td>RWHZVZ</td>\n",
       "      <td>V9073335880</td>\n",
       "      <td>2020-04-28 00:02:43</td>\n",
       "      <td>CNSHK-HKHKG-TWKHH-CNNBG-CNSHA-CNTAO-KRPUS-MXZL...</td>\n",
       "      <td>2020-04-28T00:02:43.000Z</td>\n",
       "      <td>113.863058</td>\n",
       "      <td>22.559462</td>\n",
       "      <td>-61.512151</td>\n",
       "      <td>10.642862</td>\n",
       "    </tr>\n",
       "    <tr>\n",
       "      <th>39359</th>\n",
       "      <td>JV646262964847</td>\n",
       "      <td>2020-04-28 00:06:31+00:00</td>\n",
       "      <td>-99.887150</td>\n",
       "      <td>16.492317</td>\n",
       "      <td>33.0</td>\n",
       "      <td>11200.0</td>\n",
       "      <td>RWHZVZ</td>\n",
       "      <td>V9073335880</td>\n",
       "      <td>2020-04-28 00:02:43</td>\n",
       "      <td>CNSHK-HKHKG-TWKHH-CNNBG-CNSHA-CNTAO-KRPUS-MXZL...</td>\n",
       "      <td>2020-04-28T00:06:31.000Z</td>\n",
       "      <td>113.863058</td>\n",
       "      <td>22.559462</td>\n",
       "      <td>-61.512151</td>\n",
       "      <td>10.642862</td>\n",
       "    </tr>\n",
       "    <tr>\n",
       "      <th>39391</th>\n",
       "      <td>JV646262964847</td>\n",
       "      <td>2020-04-28 00:08:44+00:00</td>\n",
       "      <td>-99.876167</td>\n",
       "      <td>16.487900</td>\n",
       "      <td>33.0</td>\n",
       "      <td>11200.0</td>\n",
       "      <td>RWHZVZ</td>\n",
       "      <td>V9073335880</td>\n",
       "      <td>2020-04-28 00:02:43</td>\n",
       "      <td>CNSHK-HKHKG-TWKHH-CNNBG-CNSHA-CNTAO-KRPUS-MXZL...</td>\n",
       "      <td>2020-04-28T00:08:44.000Z</td>\n",
       "      <td>113.863058</td>\n",
       "      <td>22.559462</td>\n",
       "      <td>-61.512151</td>\n",
       "      <td>10.642862</td>\n",
       "    </tr>\n",
       "    <tr>\n",
       "      <th>39454</th>\n",
       "      <td>JV646262964847</td>\n",
       "      <td>2020-04-28 00:12:38+00:00</td>\n",
       "      <td>-99.857150</td>\n",
       "      <td>16.480300</td>\n",
       "      <td>34.0</td>\n",
       "      <td>11200.0</td>\n",
       "      <td>RWHZVZ</td>\n",
       "      <td>V9073335880</td>\n",
       "      <td>2020-04-28 00:02:43</td>\n",
       "      <td>CNSHK-HKHKG-TWKHH-CNNBG-CNSHA-CNTAO-KRPUS-MXZL...</td>\n",
       "      <td>2020-04-28T00:12:38.000Z</td>\n",
       "      <td>113.863058</td>\n",
       "      <td>22.559462</td>\n",
       "      <td>-61.512151</td>\n",
       "      <td>10.642862</td>\n",
       "    </tr>\n",
       "    <tr>\n",
       "      <th>39525</th>\n",
       "      <td>JV646262964847</td>\n",
       "      <td>2020-04-28 00:16:31+00:00</td>\n",
       "      <td>-99.838050</td>\n",
       "      <td>16.472567</td>\n",
       "      <td>33.0</td>\n",
       "      <td>11300.0</td>\n",
       "      <td>RWHZVZ</td>\n",
       "      <td>V9073335880</td>\n",
       "      <td>2020-04-28 00:02:43</td>\n",
       "      <td>CNSHK-HKHKG-TWKHH-CNNBG-CNSHA-CNTAO-KRPUS-MXZL...</td>\n",
       "      <td>2020-04-28T00:16:31.000Z</td>\n",
       "      <td>113.863058</td>\n",
       "      <td>22.559462</td>\n",
       "      <td>-61.512151</td>\n",
       "      <td>10.642862</td>\n",
       "    </tr>\n",
       "    <tr>\n",
       "      <th>...</th>\n",
       "      <td>...</td>\n",
       "      <td>...</td>\n",
       "      <td>...</td>\n",
       "      <td>...</td>\n",
       "      <td>...</td>\n",
       "      <td>...</td>\n",
       "      <td>...</td>\n",
       "      <td>...</td>\n",
       "      <td>...</td>\n",
       "      <td>...</td>\n",
       "      <td>...</td>\n",
       "      <td>...</td>\n",
       "      <td>...</td>\n",
       "      <td>...</td>\n",
       "      <td>...</td>\n",
       "    </tr>\n",
       "    <tr>\n",
       "      <th>58304</th>\n",
       "      <td>JV646262964847</td>\n",
       "      <td>2020-04-28 23:14:32+00:00</td>\n",
       "      <td>-93.550950</td>\n",
       "      <td>13.133417</td>\n",
       "      <td>32.0</td>\n",
       "      <td>12000.0</td>\n",
       "      <td>RWHZVZ</td>\n",
       "      <td>V9073335880</td>\n",
       "      <td>2020-04-28 00:02:43</td>\n",
       "      <td>CNSHK-HKHKG-TWKHH-CNNBG-CNSHA-CNTAO-KRPUS-MXZL...</td>\n",
       "      <td>2020-04-28T23:14:32.000Z</td>\n",
       "      <td>113.863058</td>\n",
       "      <td>22.559462</td>\n",
       "      <td>-61.512151</td>\n",
       "      <td>10.642862</td>\n",
       "    </tr>\n",
       "    <tr>\n",
       "      <th>58554</th>\n",
       "      <td>JV646262964847</td>\n",
       "      <td>2020-04-28 23:39:14+00:00</td>\n",
       "      <td>-93.444233</td>\n",
       "      <td>13.073267</td>\n",
       "      <td>32.0</td>\n",
       "      <td>12000.0</td>\n",
       "      <td>RWHZVZ</td>\n",
       "      <td>V9073335880</td>\n",
       "      <td>2020-04-28 00:02:43</td>\n",
       "      <td>CNSHK-HKHKG-TWKHH-CNNBG-CNSHA-CNTAO-KRPUS-MXZL...</td>\n",
       "      <td>2020-04-28T23:39:14.000Z</td>\n",
       "      <td>113.863058</td>\n",
       "      <td>22.559462</td>\n",
       "      <td>-61.512151</td>\n",
       "      <td>10.642862</td>\n",
       "    </tr>\n",
       "    <tr>\n",
       "      <th>58591</th>\n",
       "      <td>JV646262964847</td>\n",
       "      <td>2020-04-28 23:41:38+00:00</td>\n",
       "      <td>-93.433967</td>\n",
       "      <td>13.067400</td>\n",
       "      <td>32.0</td>\n",
       "      <td>12000.0</td>\n",
       "      <td>RWHZVZ</td>\n",
       "      <td>V9073335880</td>\n",
       "      <td>2020-04-28 00:02:43</td>\n",
       "      <td>CNSHK-HKHKG-TWKHH-CNNBG-CNSHA-CNTAO-KRPUS-MXZL...</td>\n",
       "      <td>2020-04-28T23:41:38.000Z</td>\n",
       "      <td>113.863058</td>\n",
       "      <td>22.559462</td>\n",
       "      <td>-61.512151</td>\n",
       "      <td>10.642862</td>\n",
       "    </tr>\n",
       "    <tr>\n",
       "      <th>58688</th>\n",
       "      <td>JV646262964847</td>\n",
       "      <td>2020-04-28 23:54:13+00:00</td>\n",
       "      <td>-93.379583</td>\n",
       "      <td>13.036633</td>\n",
       "      <td>32.0</td>\n",
       "      <td>11900.0</td>\n",
       "      <td>RWHZVZ</td>\n",
       "      <td>V9073335880</td>\n",
       "      <td>2020-04-28 00:02:43</td>\n",
       "      <td>CNSHK-HKHKG-TWKHH-CNNBG-CNSHA-CNTAO-KRPUS-MXZL...</td>\n",
       "      <td>2020-04-28T23:54:13.000Z</td>\n",
       "      <td>113.863058</td>\n",
       "      <td>22.559462</td>\n",
       "      <td>-61.512151</td>\n",
       "      <td>10.642862</td>\n",
       "    </tr>\n",
       "    <tr>\n",
       "      <th>58697</th>\n",
       "      <td>JV646262964847</td>\n",
       "      <td>2020-04-28 23:54:54+00:00</td>\n",
       "      <td>-93.376667</td>\n",
       "      <td>13.034967</td>\n",
       "      <td>32.0</td>\n",
       "      <td>12000.0</td>\n",
       "      <td>RWHZVZ</td>\n",
       "      <td>V9073335880</td>\n",
       "      <td>2020-04-28 00:02:43</td>\n",
       "      <td>CNSHK-HKHKG-TWKHH-CNNBG-CNSHA-CNTAO-KRPUS-MXZL...</td>\n",
       "      <td>2020-04-28T23:54:54.000Z</td>\n",
       "      <td>113.863058</td>\n",
       "      <td>22.559462</td>\n",
       "      <td>-61.512151</td>\n",
       "      <td>10.642862</td>\n",
       "    </tr>\n",
       "  </tbody>\n",
       "</table>\n",
       "<p>158 rows × 15 columns</p>\n",
       "</div>"
      ],
      "text/plain": [
       "         loadingOrder                 timestamp  longitude   latitude  speed  \\\n",
       "39291  JV646262964847 2020-04-28 00:02:43+00:00 -99.905583  16.499700   33.0   \n",
       "39359  JV646262964847 2020-04-28 00:06:31+00:00 -99.887150  16.492317   33.0   \n",
       "39391  JV646262964847 2020-04-28 00:08:44+00:00 -99.876167  16.487900   33.0   \n",
       "39454  JV646262964847 2020-04-28 00:12:38+00:00 -99.857150  16.480300   34.0   \n",
       "39525  JV646262964847 2020-04-28 00:16:31+00:00 -99.838050  16.472567   33.0   \n",
       "...               ...                       ...        ...        ...    ...   \n",
       "58304  JV646262964847 2020-04-28 23:14:32+00:00 -93.550950  13.133417   32.0   \n",
       "58554  JV646262964847 2020-04-28 23:39:14+00:00 -93.444233  13.073267   32.0   \n",
       "58591  JV646262964847 2020-04-28 23:41:38+00:00 -93.433967  13.067400   32.0   \n",
       "58688  JV646262964847 2020-04-28 23:54:13+00:00 -93.379583  13.036633   32.0   \n",
       "58697  JV646262964847 2020-04-28 23:54:54+00:00 -93.376667  13.034967   32.0   \n",
       "\n",
       "       direction carrierName   vesselMMSI         onboardDate  \\\n",
       "39291    11200.0      RWHZVZ  V9073335880 2020-04-28 00:02:43   \n",
       "39359    11200.0      RWHZVZ  V9073335880 2020-04-28 00:02:43   \n",
       "39391    11200.0      RWHZVZ  V9073335880 2020-04-28 00:02:43   \n",
       "39454    11200.0      RWHZVZ  V9073335880 2020-04-28 00:02:43   \n",
       "39525    11300.0      RWHZVZ  V9073335880 2020-04-28 00:02:43   \n",
       "...          ...         ...          ...                 ...   \n",
       "58304    12000.0      RWHZVZ  V9073335880 2020-04-28 00:02:43   \n",
       "58554    12000.0      RWHZVZ  V9073335880 2020-04-28 00:02:43   \n",
       "58591    12000.0      RWHZVZ  V9073335880 2020-04-28 00:02:43   \n",
       "58688    11900.0      RWHZVZ  V9073335880 2020-04-28 00:02:43   \n",
       "58697    12000.0      RWHZVZ  V9073335880 2020-04-28 00:02:43   \n",
       "\n",
       "                                         TRANSPORT_TRACE  \\\n",
       "39291  CNSHK-HKHKG-TWKHH-CNNBG-CNSHA-CNTAO-KRPUS-MXZL...   \n",
       "39359  CNSHK-HKHKG-TWKHH-CNNBG-CNSHA-CNTAO-KRPUS-MXZL...   \n",
       "39391  CNSHK-HKHKG-TWKHH-CNNBG-CNSHA-CNTAO-KRPUS-MXZL...   \n",
       "39454  CNSHK-HKHKG-TWKHH-CNNBG-CNSHA-CNTAO-KRPUS-MXZL...   \n",
       "39525  CNSHK-HKHKG-TWKHH-CNNBG-CNSHA-CNTAO-KRPUS-MXZL...   \n",
       "...                                                  ...   \n",
       "58304  CNSHK-HKHKG-TWKHH-CNNBG-CNSHA-CNTAO-KRPUS-MXZL...   \n",
       "58554  CNSHK-HKHKG-TWKHH-CNNBG-CNSHA-CNTAO-KRPUS-MXZL...   \n",
       "58591  CNSHK-HKHKG-TWKHH-CNNBG-CNSHA-CNTAO-KRPUS-MXZL...   \n",
       "58688  CNSHK-HKHKG-TWKHH-CNNBG-CNSHA-CNTAO-KRPUS-MXZL...   \n",
       "58697  CNSHK-HKHKG-TWKHH-CNNBG-CNSHA-CNTAO-KRPUS-MXZL...   \n",
       "\n",
       "                 temp_timestamp     start_x    start_y      end_x      end_y  \n",
       "39291  2020-04-28T00:02:43.000Z  113.863058  22.559462 -61.512151  10.642862  \n",
       "39359  2020-04-28T00:06:31.000Z  113.863058  22.559462 -61.512151  10.642862  \n",
       "39391  2020-04-28T00:08:44.000Z  113.863058  22.559462 -61.512151  10.642862  \n",
       "39454  2020-04-28T00:12:38.000Z  113.863058  22.559462 -61.512151  10.642862  \n",
       "39525  2020-04-28T00:16:31.000Z  113.863058  22.559462 -61.512151  10.642862  \n",
       "...                         ...         ...        ...        ...        ...  \n",
       "58304  2020-04-28T23:14:32.000Z  113.863058  22.559462 -61.512151  10.642862  \n",
       "58554  2020-04-28T23:39:14.000Z  113.863058  22.559462 -61.512151  10.642862  \n",
       "58591  2020-04-28T23:41:38.000Z  113.863058  22.559462 -61.512151  10.642862  \n",
       "58688  2020-04-28T23:54:13.000Z  113.863058  22.559462 -61.512151  10.642862  \n",
       "58697  2020-04-28T23:54:54.000Z  113.863058  22.559462 -61.512151  10.642862  \n",
       "\n",
       "[158 rows x 15 columns]"
      ]
     },
     "execution_count": 114,
     "metadata": {},
     "output_type": "execute_result"
    }
   ],
   "source": [
    "df_test[df_test['loadingOrder'].isin(['JV646262964847'])]"
   ]
  },
  {
   "cell_type": "markdown",
   "metadata": {},
   "source": [
    "## 特征重要度筛选"
   ]
  },
  {
   "cell_type": "code",
   "execution_count": 58,
   "metadata": {},
   "outputs": [
    {
     "data": {
      "text/plain": [
       "<Figure size 1296x648 with 0 Axes>"
      ]
     },
     "metadata": {},
     "output_type": "display_data"
    },
    {
     "data": {
      "image/png": "[encoded data removed]",
      "text/plain": [
       "<Figure size 432x288 with 1 Axes>"
      ]
     },
     "metadata": {
      "needs_background": "light"
     },
     "output_type": "display_data"
    }
   ],
   "source": [
    "plt.figure(figsize=(18,9))\n",
    "lgb.plot_importance(llf,max_num_features=16)\n",
    "plt.title('lightgbm——feature_importances_',fontsize=14)\n",
    "plt.show()"
   ]
  },
  {
   "cell_type": "code",
   "execution_count": 59,
   "metadata": {},
   "outputs": [
    {
     "data": {
      "text/plain": [
       "<Figure size 1296x648 with 0 Axes>"
      ]
     },
     "metadata": {},
     "output_type": "display_data"
    },
    {
     "data": {
      "image/png": "[encoded data removed]",
      "text/plain": [
       "<Figure size 432x288 with 1 Axes>"
      ]
     },
     "metadata": {
      "needs_background": "light"
     },
     "output_type": "display_data"
    }
   ],
   "source": [
    "plt.figure(figsize=(18,9))\n",
    "xgb.plot_importance(xlf,max_num_features=16,importance_type='weight')#'gain'可以换成weight\n",
    "plt.title('xgboost——feature_importances_',fontsize=14)\n",
    "plt.show()"
   ]
  },
  {
   "cell_type": "code",
   "execution_count": 88,
   "metadata": {},
   "outputs": [
    {
     "data": {
      "text/plain": [
       "Text(0.5, 1.0, 'xgboost&lightgbm——feature_importances_')"
      ]
     },
     "execution_count": 88,
     "metadata": {},
     "output_type": "execute_result"
    },
    {
     "data": {
      "image/png": "[encoded data removed]",
      "text/plain": [
       "<Figure size 2160x900 with 1 Axes>"
      ]
     },
     "metadata": {
      "needs_background": "light"
     },
     "output_type": "display_data"
    }
   ],
   "source": [
    "width=0.25\n",
    "address=np.arange(len(train_data.columns))\n",
    "tick_label=train_data.columns\n",
    "plt.figure(dpi=600,figsize=(3.6,1.5))\n",
    "plt.bar(address\n",
    "        ,xlf.feature_importances_\n",
    "        ,width\n",
    "        ,color='y'\n",
    "        ,label='xgboost')\n",
    "plt.bar(address+width\n",
    "        ,llf.feature_importances_/sum(llf.feature_importances_)\n",
    "        ,width\n",
    "        ,color='c'\n",
    "        ,label='lightgbm')\n",
    "plt.legend(fontsize=4)\n",
    "plt.xticks(address+width\n",
    "           ,tick_label\n",
    "           ,fontsize=4\n",
    "           ,rotation=90\n",
    "           ,horizontalalignment='center')\n",
    "plt.yticks(fontsize=4,rotation=0)\n",
    "plt.title('xgboost&lightgbm——feature_importances_',fontsize=4)"
   ]
  },
  {
   "cell_type": "markdown",
   "metadata": {},
   "source": [
    "## 生成提交文件"
   ]
  },
  {
   "cell_type": "markdown",
   "metadata": {},
   "source": [
    "DH829189593918 105.0\n",
    "24 105.0\n",
    "LE381377964668 68.0\n",
    "87,68.0"
   ]
  },
  {
   "cell_type": "code",
   "execution_count": 90,
   "metadata": {},
   "outputs": [],
   "source": [
    "test['label'] = answers\n",
    "result=test[['loadingOrder', 'label']]\n",
    "test_data_path = '../R2 ATest 0711.csv'\n",
    "test_data=pd.read_csv(test_data_path)\n",
    "test_data=get_data(test_data, mode='test')\n",
    "#\n",
    "test_data = test_data.merge(result, on='loadingOrder', how='left')\n",
    "test_data['ETA'] = (test_data['onboardDate'] + test_data['label'].apply(lambda x:pd.Timedelta(hours=x))).apply(lambda x:x.strftime('%Y/%m/%d  %H:%M:%S'))\n",
    "test_data.drop(['direction','TRANSPORT_TRACE'],axis=1,inplace=True)\n",
    "test_data['onboardDate'] = test_data['onboardDate'].apply(lambda x:x.strftime('%Y/%m/%d  %H:%M:%S'))\n",
    "test_data['creatDate'] = pd.datetime.now().strftime('%Y/%m/%d  %H:%M:%S')\n",
    "test_data['timestamp'] = test_data['temp_timestamp']\n",
    "# 整理columns顺序\n",
    "submit = test_data[['loadingOrder', 'timestamp', 'longitude', 'latitude', 'carrierName', 'vesselMMSI', 'onboardDate', 'ETA', 'creatDate']]"
   ]
  },
  {
   "cell_type": "code",
   "execution_count": 122,
   "metadata": {},
   "outputs": [
    {
     "data": {
      "text/html": [
       "<div>\n",
       "<style scoped>\n",
       "    .dataframe tbody tr th:only-of-type {\n",
       "        vertical-align: middle;\n",
       "    }\n",
       "\n",
       "    .dataframe tbody tr th {\n",
       "        vertical-align: top;\n",
       "    }\n",
       "\n",
       "    .dataframe thead th {\n",
       "        text-align: right;\n",
       "    }\n",
       "</style>\n",
       "<table border=\"1\" class=\"dataframe\">\n",
       "  <thead>\n",
       "    <tr style=\"text-align: right;\">\n",
       "      <th></th>\n",
       "      <th>loadingOrder</th>\n",
       "      <th>timestamp</th>\n",
       "      <th>longitude</th>\n",
       "      <th>latitude</th>\n",
       "      <th>carrierName</th>\n",
       "      <th>vesselMMSI</th>\n",
       "      <th>onboardDate</th>\n",
       "      <th>ETA</th>\n",
       "      <th>creatDate</th>\n",
       "    </tr>\n",
       "  </thead>\n",
       "  <tbody>\n",
       "    <tr>\n",
       "      <th>29536</th>\n",
       "      <td>FA712454830300</td>\n",
       "      <td>2020-01-28T05:19:28.000Z</td>\n",
       "      <td>114.061383</td>\n",
       "      <td>22.359500</td>\n",
       "      <td>RWHZVZ</td>\n",
       "      <td>D2070531050</td>\n",
       "      <td>2020/01/28  04:52:18</td>\n",
       "      <td>2020/02/08  15:04:30</td>\n",
       "      <td>2020/07/21  18:39:14</td>\n",
       "    </tr>\n",
       "    <tr>\n",
       "      <th>29537</th>\n",
       "      <td>FA712454830300</td>\n",
       "      <td>2020-01-28T05:24:28.000Z</td>\n",
       "      <td>114.074933</td>\n",
       "      <td>22.350750</td>\n",
       "      <td>RWHZVZ</td>\n",
       "      <td>D2070531050</td>\n",
       "      <td>2020/01/28  04:52:18</td>\n",
       "      <td>2020/02/08  15:04:30</td>\n",
       "      <td>2020/07/21  18:39:14</td>\n",
       "    </tr>\n",
       "    <tr>\n",
       "      <th>29538</th>\n",
       "      <td>FA712454830300</td>\n",
       "      <td>2020-01-28T05:29:58.000Z</td>\n",
       "      <td>114.081983</td>\n",
       "      <td>22.329350</td>\n",
       "      <td>RWHZVZ</td>\n",
       "      <td>D2070531050</td>\n",
       "      <td>2020/01/28  04:52:18</td>\n",
       "      <td>2020/02/08  15:04:30</td>\n",
       "      <td>2020/07/21  18:39:14</td>\n",
       "    </tr>\n",
       "    <tr>\n",
       "      <th>29541</th>\n",
       "      <td>FA712454830300</td>\n",
       "      <td>2020-01-28T05:30:28.000Z</td>\n",
       "      <td>114.082833</td>\n",
       "      <td>22.327083</td>\n",
       "      <td>RWHZVZ</td>\n",
       "      <td>D2070531050</td>\n",
       "      <td>2020/01/28  04:52:18</td>\n",
       "      <td>2020/02/08  15:04:30</td>\n",
       "      <td>2020/07/21  18:39:14</td>\n",
       "    </tr>\n",
       "    <tr>\n",
       "      <th>29544</th>\n",
       "      <td>FA712454830300</td>\n",
       "      <td>2020-01-28T05:31:28.000Z</td>\n",
       "      <td>114.084383</td>\n",
       "      <td>22.323150</td>\n",
       "      <td>RWHZVZ</td>\n",
       "      <td>D2070531050</td>\n",
       "      <td>2020/01/28  04:52:18</td>\n",
       "      <td>2020/02/08  15:04:30</td>\n",
       "      <td>2020/07/21  18:39:14</td>\n",
       "    </tr>\n",
       "    <tr>\n",
       "      <th>...</th>\n",
       "      <td>...</td>\n",
       "      <td>...</td>\n",
       "      <td>...</td>\n",
       "      <td>...</td>\n",
       "      <td>...</td>\n",
       "      <td>...</td>\n",
       "      <td>...</td>\n",
       "      <td>...</td>\n",
       "      <td>...</td>\n",
       "    </tr>\n",
       "    <tr>\n",
       "      <th>32945</th>\n",
       "      <td>FA712454830300</td>\n",
       "      <td>2020-02-23T07:41:08.000Z</td>\n",
       "      <td>31.126853</td>\n",
       "      <td>-29.817860</td>\n",
       "      <td>RWHZVZ</td>\n",
       "      <td>D2070531050</td>\n",
       "      <td>2020/01/28  04:52:18</td>\n",
       "      <td>2020/02/08  15:04:30</td>\n",
       "      <td>2020/07/21  18:39:14</td>\n",
       "    </tr>\n",
       "    <tr>\n",
       "      <th>32946</th>\n",
       "      <td>FA712454830300</td>\n",
       "      <td>2020-02-23T07:43:08.000Z</td>\n",
       "      <td>31.125547</td>\n",
       "      <td>-29.818770</td>\n",
       "      <td>RWHZVZ</td>\n",
       "      <td>D2070531050</td>\n",
       "      <td>2020/01/28  04:52:18</td>\n",
       "      <td>2020/02/08  15:04:30</td>\n",
       "      <td>2020/07/21  18:39:14</td>\n",
       "    </tr>\n",
       "    <tr>\n",
       "      <th>32947</th>\n",
       "      <td>FA712454830300</td>\n",
       "      <td>2020-02-23T07:46:08.000Z</td>\n",
       "      <td>31.119920</td>\n",
       "      <td>-29.818930</td>\n",
       "      <td>RWHZVZ</td>\n",
       "      <td>D2070531050</td>\n",
       "      <td>2020/01/28  04:52:18</td>\n",
       "      <td>2020/02/08  15:04:30</td>\n",
       "      <td>2020/07/21  18:39:14</td>\n",
       "    </tr>\n",
       "    <tr>\n",
       "      <th>32948</th>\n",
       "      <td>FA712454830300</td>\n",
       "      <td>2020-02-23T07:47:08.000Z</td>\n",
       "      <td>31.118000</td>\n",
       "      <td>-29.818530</td>\n",
       "      <td>RWHZVZ</td>\n",
       "      <td>D2070531050</td>\n",
       "      <td>2020/01/28  04:52:18</td>\n",
       "      <td>2020/02/08  15:04:30</td>\n",
       "      <td>2020/07/21  18:39:14</td>\n",
       "    </tr>\n",
       "    <tr>\n",
       "      <th>32949</th>\n",
       "      <td>FA712454830300</td>\n",
       "      <td>2020-02-23T08:16:08.000Z</td>\n",
       "      <td>31.069547</td>\n",
       "      <td>-29.854480</td>\n",
       "      <td>RWHZVZ</td>\n",
       "      <td>D2070531050</td>\n",
       "      <td>2020/01/28  04:52:18</td>\n",
       "      <td>2020/02/08  15:04:30</td>\n",
       "      <td>2020/07/21  18:39:14</td>\n",
       "    </tr>\n",
       "  </tbody>\n",
       "</table>\n",
       "<p>735 rows × 9 columns</p>\n",
       "</div>"
      ],
      "text/plain": [
       "         loadingOrder                 timestamp   longitude   latitude  \\\n",
       "29536  FA712454830300  2020-01-28T05:19:28.000Z  114.061383  22.359500   \n",
       "29537  FA712454830300  2020-01-28T05:24:28.000Z  114.074933  22.350750   \n",
       "29538  FA712454830300  2020-01-28T05:29:58.000Z  114.081983  22.329350   \n",
       "29541  FA712454830300  2020-01-28T05:30:28.000Z  114.082833  22.327083   \n",
       "29544  FA712454830300  2020-01-28T05:31:28.000Z  114.084383  22.323150   \n",
       "...               ...                       ...         ...        ...   \n",
       "32945  FA712454830300  2020-02-23T07:41:08.000Z   31.126853 -29.817860   \n",
       "32946  FA712454830300  2020-02-23T07:43:08.000Z   31.125547 -29.818770   \n",
       "32947  FA712454830300  2020-02-23T07:46:08.000Z   31.119920 -29.818930   \n",
       "32948  FA712454830300  2020-02-23T07:47:08.000Z   31.118000 -29.818530   \n",
       "32949  FA712454830300  2020-02-23T08:16:08.000Z   31.069547 -29.854480   \n",
       "\n",
       "      carrierName   vesselMMSI           onboardDate                   ETA  \\\n",
       "29536      RWHZVZ  D2070531050  2020/01/28  04:52:18  2020/02/08  15:04:30   \n",
       "29537      RWHZVZ  D2070531050  2020/01/28  04:52:18  2020/02/08  15:04:30   \n",
       "29538      RWHZVZ  D2070531050  2020/01/28  04:52:18  2020/02/08  15:04:30   \n",
       "29541      RWHZVZ  D2070531050  2020/01/28  04:52:18  2020/02/08  15:04:30   \n",
       "29544      RWHZVZ  D2070531050  2020/01/28  04:52:18  2020/02/08  15:04:30   \n",
       "...           ...          ...                   ...                   ...   \n",
       "32945      RWHZVZ  D2070531050  2020/01/28  04:52:18  2020/02/08  15:04:30   \n",
       "32946      RWHZVZ  D2070531050  2020/01/28  04:52:18  2020/02/08  15:04:30   \n",
       "32947      RWHZVZ  D2070531050  2020/01/28  04:52:18  2020/02/08  15:04:30   \n",
       "32948      RWHZVZ  D2070531050  2020/01/28  04:52:18  2020/02/08  15:04:30   \n",
       "32949      RWHZVZ  D2070531050  2020/01/28  04:52:18  2020/02/08  15:04:30   \n",
       "\n",
       "                  creatDate  \n",
       "29536  2020/07/21  18:39:14  \n",
       "29537  2020/07/21  18:39:14  \n",
       "29538  2020/07/21  18:39:14  \n",
       "29541  2020/07/21  18:39:14  \n",
       "29544  2020/07/21  18:39:14  \n",
       "...                     ...  \n",
       "32945  2020/07/21  18:39:14  \n",
       "32946  2020/07/21  18:39:14  \n",
       "32947  2020/07/21  18:39:14  \n",
       "32948  2020/07/21  18:39:14  \n",
       "32949  2020/07/21  18:39:14  \n",
       "\n",
       "[735 rows x 9 columns]"
      ]
     },
     "execution_count": 122,
     "metadata": {},
     "output_type": "execute_result"
    }
   ],
   "source": [
    "submit[submit['loadingOrder'].isin(['FA712454830300'])]"
   ]
  },
  {
   "cell_type": "code",
   "execution_count": 130,
   "metadata": {},
   "outputs": [],
   "source": [
    "submit.to_csv('../submit/716subv2.csv', index=False)"
   ]
  },
  {
   "cell_type": "code",
   "execution_count": 131,
   "metadata": {},
   "outputs": [],
   "source": [
    "np.save('../submit/716subv2.npy',answers)"
   ]
  },
  {
   "cell_type": "code",
   "execution_count": null,
   "metadata": {},
   "outputs": [],
   "source": []
  }
 ],
 "metadata": {
  "kernelspec": {
   "display_name": "huawei_copy",
   "language": "python",
   "name": "huawei_copy"
  },
  "language_info": {
   "codemirror_mode": {
    "name": "ipython",
    "version": 3
   },
   "file_extension": ".py",
   "mimetype": "text/x-python",
   "name": "python",
   "nbconvert_exporter": "python",
   "pygments_lexer": "ipython3",
   "version": "3.7.7"
  }
 },
 "nbformat": 4,
 "nbformat_minor": 2
}
